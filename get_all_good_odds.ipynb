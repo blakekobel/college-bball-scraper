{
 "cells": [
  {
   "cell_type": "code",
   "execution_count": 10,
   "metadata": {},
   "outputs": [],
   "source": [
    "import json\n",
    "import requests\n",
    "import datetime as dt\n",
    "import pickle\n",
    "import pandas as pd\n",
    "import mysql.connector\n",
    "import os\n",
    "from os.path import join, dirname\n",
    "from datetime import date, datetime\n",
    "\n",
    "from dotenv import load_dotenv\n",
    "import db_helper"
   ]
  },
  {
   "cell_type": "code",
   "execution_count": 11,
   "metadata": {},
   "outputs": [],
   "source": [
    "def get_odds_data():\n",
    "    api_key = 'da3195c8356b3b0ee3e5a6682ed9c537'\n",
    "    sports_response = requests.get('https://api.the-odds-api.com/v3/odds', params={\n",
    "        'api_key': api_key,\n",
    "        'sport': 'basketball_ncaab',\n",
    "        'region': 'us',\n",
    "        'oddsFormat': 'american'\n",
    "    })\n",
    "\n",
    "\n",
    "#     print(sports_response.headers['x-requests-remaining'])\n",
    "    sports_json = json.loads(sports_response.text)\n",
    "    return sports_json\n",
    "    "
   ]
  },
  {
   "cell_type": "code",
   "execution_count": 12,
   "metadata": {},
   "outputs": [
    {
     "name": "stdout",
     "output_type": "stream",
     "text": [
      "https://api.the-odds-api.com/v3/odds/?apiKey=da3195c8356b3b0ee3e5a6682ed9c537&sport=basketball_ncaab&region=us&mkt=h2h&oddsFormat=american\n"
     ]
    }
   ],
   "source": [
    "print(\"https://api.the-odds-api.com/v3/odds/?apiKey=da3195c8356b3b0ee3e5a6682ed9c537&sport=basketball_ncaab&region=us&mkt=h2h&oddsFormat=american\")"
   ]
  },
  {
   "cell_type": "code",
   "execution_count": 13,
   "metadata": {},
   "outputs": [],
   "source": [
    "def getTeamData(name):\n",
    "    name = name.replace(\" \", \"%20\")\n",
    "    baseUrl=\"https://api.fastbreakstats.com/teams/\"\n",
    "    params=\"?q=current\"\n",
    "    url=baseUrl+name+params\n",
    "\n",
    "    r = requests.get(url = url).json()[0]\n",
    "    bpival = r['BPIval']\n",
    "    kpval = r['KenPomVal']\n",
    "    srsval = r['SRS']\n",
    "    return kpval, bpival, srsval"
   ]
  },
  {
   "cell_type": "code",
   "execution_count": 14,
   "metadata": {},
   "outputs": [],
   "source": [
    "def get_needed_odds(conf):\n",
    "    #This function calculates the odds needed for a bet to have an expected value of .1\n",
    "    #An EV of .1 means a $.10 expected return on $1 over time\n",
    "    #The normal formula is EV = (payout * confidence) - (bet * (1-conf))\n",
    "    #payout is the expected profit on a bet.\n",
    "    #confidence is models % chance of winning. 1-conf is for the other team\n",
    "    #The bet is always going to be $1 for simple math which removes the need for the bet variable\n",
    "    #below equation is rearranged to isolate and solve for the payout\n",
    "    payout = round(((.1+(1-conf))/conf),4) \n",
    "    #convert payout to american odds\n",
    "    if 100/payout > 100:\n",
    "        odds = round(-100/payout)\n",
    "    else:\n",
    "        odds = round(100*payout)\n",
    "    return odds"
   ]
  },
  {
   "cell_type": "code",
   "execution_count": 15,
   "metadata": {},
   "outputs": [],
   "source": [
    "def get_ev(odds,conf):\n",
    "    #This calculates the Expected Return on a $1 bet with the actual given bookie odds we pass in\n",
    "    #EV of .1 means a 10 cent return on a $1 bet over time\n",
    "    if int(odds) > 0:\n",
    "        payout = odds/100\n",
    "    else:\n",
    "        payout = -100/odds\n",
    "    ev = (conf * payout) - (1-conf)\n",
    "    return ev"
   ]
  },
  {
   "cell_type": "code",
   "execution_count": 16,
   "metadata": {},
   "outputs": [],
   "source": [
    "def get_kelly_bet(odds,conf):\n",
    "    if int(odds) > 0:\n",
    "        dec = 1+(odds/100)\n",
    "    else:\n",
    "        dec = 1-(100/odds)\n",
    "    kb = ((dec*conf) - (1-conf))/dec\n",
    "    return kb"
   ]
  },
  {
   "cell_type": "code",
   "execution_count": 17,
   "metadata": {},
   "outputs": [],
   "source": [
    "def convert_epoch(epoch):\n",
    "    return dt.datetime.fromtimestamp(epoch).strftime('%Y-%m-%d %H:%M:00')"
   ]
  },
  {
   "cell_type": "code",
   "execution_count": 28,
   "metadata": {
    "scrolled": false
   },
   "outputs": [],
   "source": [
    "def get_all_good_odds():\n",
    "    teams = pd.read_csv('teams_table.csv')\n",
    "#     db = db_helper.Db_Helper()\n",
    "#     teams = db.get_teams()\n",
    "#     teams = pd.DataFrame(teams, columns=['teamID','kenpom_name','sr_name','bpi_name','sr_games_name','odds_api_name','extra_name3'])\n",
    "    \n",
    "    loaded_model = pickle.load(open('6yr_LR.sav', 'rb'))\n",
    "    games_to_bet = []\n",
    "    sports_json = get_odds_data()\n",
    "    for game in sports_json['data']:\n",
    "        #Loop through and get odds\n",
    "        if game['commence_time'] < dt.datetime.now().timestamp():\n",
    "            continue\n",
    "        if dt.datetime.fromtimestamp(game['commence_time']).date() > dt.datetime.now().date():\n",
    "            continue\n",
    "\n",
    "        game_time = convert_epoch(game['commence_time'])\n",
    "        home = game['home_team']\n",
    "        if game['home_team'] == game['teams'][0]:\n",
    "            away = game['teams'][1]\n",
    "        else:\n",
    "            away = game['teams'][0]\n",
    "\n",
    "        try:\n",
    "            home = home.replace(\"-\", \" \")\n",
    "            home = home.replace(\"(\", \"\")\n",
    "            home = home.replace(\")\", \"\")\n",
    "            home = home.replace(\".\", \"\")\n",
    "            away = away.replace(\"-\", \" \")\n",
    "            away = away.replace(\"(\", \"\")\n",
    "            away = away.replace(\")\", \"\")\n",
    "            away = away.replace(\".\", \"\")\n",
    "            homekp, homebpi, homesrs = getTeamData(teams.loc[teams['odds_api_name'] == home]['kenpom_name'].values[0])\n",
    "            homeid = teams.loc[teams['odds_api_name'] == home]['teamID'].values[0]\n",
    "            awaykp, awaybpi, awaysrs = getTeamData(teams.loc[teams['odds_api_name'] == away]['kenpom_name'].values[0])\n",
    "            awayid = teams.loc[teams['odds_api_name'] == away]['teamID'].values[0]\n",
    "        except Exception as e:\n",
    "            print(e)\n",
    "            print(game['teams'])\n",
    "            continue\n",
    "\n",
    "        res = loaded_model.predict_proba([[float(awaykp), float(awaybpi), float(awaysrs), float(homekp), float(homebpi), float(homesrs)]])\n",
    "        away_needed_odds = int(get_needed_odds(res[0][0]))    \n",
    "        home_needed_odds = int(get_needed_odds(res[0][1]))\n",
    "\n",
    "        #site,odds,update,ev\n",
    "        bovada = ['bovada',None,None]\n",
    "        draftkings = ['dk',None,None]\n",
    "        willhill = ['wh',None,None]\n",
    "    #     print()\n",
    "        sites = list(filter(lambda site: site['site_key'] in ['williamhill_us','draftkings','bovada'], game['sites']))\n",
    "    #     print(sites)\n",
    "        if not sites:\n",
    "            continue\n",
    "        for site in sites:\n",
    "            if site['site_key'] == 'williamhill_us':\n",
    "                willhill[2] = convert_epoch(site['last_update'])\n",
    "                if home == game['teams'][0]:\n",
    "                    home_odds = int(site['odds']['h2h'][0])\n",
    "                    away_odds = int(site['odds']['h2h'][1])\n",
    "                else:\n",
    "                    home_odds = int(site['odds']['h2h'][1])\n",
    "                    away_odds = int(site['odds']['h2h'][0])\n",
    "                if home_odds > home_needed_odds:\n",
    "                    willhill[1] = home_odds\n",
    "                    single_needed_odds = home_needed_odds\n",
    "                    team_to_bet = homeid\n",
    "#                     willhill[3] = round(get_ev(home_odds,res[0][1]),2)\n",
    "                if away_odds > away_needed_odds:\n",
    "                    willhill[1] = away_odds\n",
    "                    single_needed_odds = away_needed_odds\n",
    "                    team_to_bet = awayid\n",
    "#                     willhill[3] = round(get_ev(away_odds,res[0][0]),2)\n",
    "            elif site['site_key'] == 'draftkings':\n",
    "                draftkings[2] = convert_epoch(site['last_update'])\n",
    "                if home == game['teams'][0]:\n",
    "                    home_odds = int(site['odds']['h2h'][0])\n",
    "                    away_odds = int(site['odds']['h2h'][1])\n",
    "                else:\n",
    "                    home_odds = int(site['odds']['h2h'][1])\n",
    "                    away_odds = int(site['odds']['h2h'][0])\n",
    "                if home_odds > home_needed_odds:\n",
    "                    draftkings[1] = home_odds\n",
    "                    single_needed_odds = home_needed_odds\n",
    "                    team_to_bet = homeid\n",
    "#                     draftkings[3] = round(get_ev1(home_odds,res[0][1]),2)\n",
    "                if away_odds > away_needed_odds:\n",
    "                    draftkings[1] = away_odds\n",
    "                    single_needed_odds = away_needed_odds\n",
    "                    team_to_bet = awayid\n",
    "#                     draftkings[3] = round(get_ev1(away_odds,res[0][0]),2)\n",
    "            elif site['site_key'] == 'bovada':\n",
    "                bovada[2] = convert_epoch(site['last_update'])\n",
    "                if home == game['teams'][0]:\n",
    "                    home_odds = int(site['odds']['h2h'][0])\n",
    "                    away_odds = int(site['odds']['h2h'][1])\n",
    "                else:\n",
    "                    home_odds = int(site['odds']['h2h'][1])\n",
    "                    away_odds = int(site['odds']['h2h'][0])\n",
    "                if home_odds > home_needed_odds:\n",
    "                    bovada[1] = home_odds\n",
    "                    single_needed_odds = home_needed_odds\n",
    "                    team_to_bet = homeid\n",
    "#                     bovada[3] = round(get_ev1(home_odds,res[0][1]),2)\n",
    "                if away_odds > away_needed_odds:\n",
    "                    bovada[1] = away_odds\n",
    "                    single_needed_odds = away_needed_odds\n",
    "                    team_to_bet = awayid\n",
    "#                     bovada[3] = round(get_ev1(away_odds,res[0][0]),2)\n",
    "\n",
    "        if bovada[1] or draftkings[1] or willhill[1]:\n",
    "    #         print(game['teams'],game['home_team'])\n",
    "    #         print(\"Game Time:\", game_time)\n",
    "    #         print('Home team:', homeid)\n",
    "    #         print('Away team:', awayid)\n",
    "    #         print('Team to bet:', team_to_bet)\n",
    "    #         print('Needed odds:', single_needed_odds)\n",
    "    #         print(bovada)\n",
    "    #         print(draftkings)\n",
    "    #         print(willhill)\n",
    "            game_to_bet = []\n",
    "            game_to_bet.append(game_time)\n",
    "            game_to_bet.append(str(homeid))\n",
    "            game_to_bet.append(str(awayid))\n",
    "            game_to_bet.append(str(bovada[1]))\n",
    "            game_to_bet.append(str(draftkings[1]))\n",
    "            game_to_bet.append(str(willhill[1]))\n",
    "            game_to_bet.append(bovada[2])\n",
    "            game_to_bet.append(draftkings[2])\n",
    "            game_to_bet.append(willhill[2])\n",
    "            game_to_bet.append(str(single_needed_odds))\n",
    "            game_to_bet.append(str(team_to_bet))\n",
    "            \n",
    "            games_to_bet.append(game_to_bet)\n",
    "        else:\n",
    "            continue\n",
    "\n",
    "    return games_to_bet"
   ]
  },
  {
   "cell_type": "code",
   "execution_count": 29,
   "metadata": {},
   "outputs": [
    {
     "name": "stderr",
     "output_type": "stream",
     "text": [
      "c:\\users\\blake\\appdata\\local\\programs\\python\\python36\\lib\\site-packages\\sklearn\\base.py:318: UserWarning: Trying to unpickle estimator LogisticRegression from version 0.22.1 when using version 0.22.2.post1. This might lead to breaking code or invalid results. Use at your own risk.\n",
      "  UserWarning)\n"
     ]
    }
   ],
   "source": [
    "good_odds = get_all_good_odds()"
   ]
  },
  {
   "cell_type": "code",
   "execution_count": 30,
   "metadata": {},
   "outputs": [
    {
     "name": "stdout",
     "output_type": "stream",
     "text": [
      "[['2021-01-05 13:00:00', '137', '301', '125', '120', '125', '2021-01-05 10:12:00', '2021-01-05 10:13:00', '2021-01-05 10:12:00', '104', '301'], ['2021-01-05 13:00:00', '28', '114', '600', 'None', '700', '2021-01-05 10:12:00', None, '2021-01-05 10:12:00', '-642', '28'], ['2021-01-05 14:00:00', '96', '42', '-165', '-175', '-170', '2021-01-05 10:12:00', '2021-01-05 10:13:00', '2021-01-05 10:12:00', '-239', '96'], ['2021-01-05 17:00:00', '93', '66', '500', '575', '550', '2021-01-05 10:12:00', '2021-01-05 10:13:00', '2021-01-05 10:12:00', '490', '93'], ['2021-01-05 17:00:00', '241', '108', '-175', '-190', '-180', '2021-01-05 10:12:00', '2021-01-05 10:13:00', '2021-01-05 10:12:00', '-268', '241'], ['2021-01-05 17:00:00', '322', '149', '-140', '-134', '-140', '2021-01-05 10:12:00', '2021-01-05 10:13:00', '2021-01-05 10:12:00', '-189', '322'], ['2021-01-05 18:00:00', '53', '188', 'None', '-220', '-210', None, '2021-01-05 10:13:00', '2021-01-05 10:12:00', '-243', '53'], ['2021-01-05 20:00:00', '312', '166', '120', '112', '115', '2021-01-05 10:12:00', '2021-01-05 10:13:00', '2021-01-05 10:12:00', '-100', '312'], ['2021-01-05 20:00:00', '160', '60', '100', '-112', '100', '2021-01-05 10:12:00', '2021-01-05 10:13:00', '2021-01-05 10:12:00', '-133', '160'], ['2021-01-05 20:00:00', '177', '179', 'None', 'None', '-140', None, '2021-01-05 10:13:00', '2021-01-05 10:12:00', '-142', '179']]\n"
     ]
    }
   ],
   "source": [
    "print(good_odds)"
   ]
  },
  {
   "cell_type": "code",
   "execution_count": 31,
   "metadata": {},
   "outputs": [],
   "source": [
    "db = db_helper.Db_Helper()"
   ]
  },
  {
   "cell_type": "code",
   "execution_count": 32,
   "metadata": {},
   "outputs": [],
   "source": [
    "db.insert_odds(good_odds)"
   ]
  },
  {
   "cell_type": "code",
   "execution_count": 33,
   "metadata": {},
   "outputs": [],
   "source": [
    "db.close()"
   ]
  },
  {
   "cell_type": "code",
   "execution_count": null,
   "metadata": {},
   "outputs": [],
   "source": []
  }
 ],
 "metadata": {
  "kernelspec": {
   "display_name": "Python 3",
   "language": "python",
   "name": "python3"
  },
  "language_info": {
   "codemirror_mode": {
    "name": "ipython",
    "version": 3
   },
   "file_extension": ".py",
   "mimetype": "text/x-python",
   "name": "python",
   "nbconvert_exporter": "python",
   "pygments_lexer": "ipython3",
   "version": "3.6.8"
  }
 },
 "nbformat": 4,
 "nbformat_minor": 4
}
