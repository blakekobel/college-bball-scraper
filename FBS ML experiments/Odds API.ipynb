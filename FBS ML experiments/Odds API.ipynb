{
 "cells": [
  {
   "cell_type": "code",
   "execution_count": 78,
   "metadata": {},
   "outputs": [],
   "source": [
    "import json\n",
    "import requests\n",
    "import datetime as dt\n",
    "import pickle\n",
    "import pandas as pd\n",
    "\n",
    "# An api key is emailed to you when you sign up to a plan\n",
    "api_key = 'da3195c8356b3b0ee3e5a6682ed9c537'\n"
   ]
  },
  {
   "cell_type": "code",
   "execution_count": 79,
   "metadata": {},
   "outputs": [
    {
     "name": "stdout",
     "output_type": "stream",
     "text": [
      "2021-01-08 08:46:19.451245\n",
      "2021-01-08 14:46:19.451245+00:00\n"
     ]
    }
   ],
   "source": [
    "from datetime import datetime, timezone\n",
    "print(datetime.now())              # timezone\n",
    "print(datetime.now(timezone.utc))  # coordinated universal time "
   ]
  },
  {
   "cell_type": "code",
   "execution_count": 80,
   "metadata": {},
   "outputs": [],
   "source": [
    "def get_odds_data():\n",
    "    sports_response = requests.get('https://api.the-odds-api.com/v3/odds', params={\n",
    "        'api_key': api_key,\n",
    "        'sport': 'basketball_ncaab',\n",
    "        'region': 'us',\n",
    "        'oddsFormat': 'american'\n",
    "    })\n",
    "\n",
    "\n",
    "    sports_json = json.loads(sports_response.text)\n",
    "    date = dt.datetime.today().date().strftime('%Y-%m-%d')\n",
    "    with open(str(date)+'.json', 'w') as outfile:\n",
    "        json.dump(sports_json, outfile)\n",
    "    "
   ]
  },
  {
   "cell_type": "code",
   "execution_count": 81,
   "metadata": {},
   "outputs": [
    {
     "name": "stdout",
     "output_type": "stream",
     "text": [
      "https://api.the-odds-api.com/v3/odds/?apiKey=da3195c8356b3b0ee3e5a6682ed9c537&sport=basketball_ncaab&region=us&mkt=h2h&oddsFormat=american\n"
     ]
    }
   ],
   "source": [
    "print(\"https://api.the-odds-api.com/v3/odds/?apiKey=da3195c8356b3b0ee3e5a6682ed9c537&sport=basketball_ncaab&region=us&mkt=h2h&oddsFormat=american\")"
   ]
  },
  {
   "cell_type": "code",
   "execution_count": 82,
   "metadata": {},
   "outputs": [],
   "source": [
    "get_odds_data()"
   ]
  },
  {
   "cell_type": "code",
   "execution_count": 83,
   "metadata": {},
   "outputs": [],
   "source": [
    "date = dt.datetime.today().date().strftime('%Y-%m-%d')\n",
    "with open(str(date)+'.json') as f:\n",
    "    sports_json = json.load(f)"
   ]
  },
  {
   "cell_type": "code",
   "execution_count": 84,
   "metadata": {},
   "outputs": [],
   "source": [
    "def getTeamData(teamid):\n",
    "    teamid = teamid.replace(\" \", \"%20\")\n",
    "    baseUrl=\"https://fastbreakstats-server-main-hqc7w3njda-uc.a.run.app/teams/\"\n",
    "    url=baseUrl+teamid\n",
    "\n",
    "    r = requests.get(url = url).json()\n",
    "    bpival = r['bpi']\n",
    "    kpval = r['kp']\n",
    "    srsval = r['srs']\n",
    "    teamID = r['teamID']\n",
    "    return kpval, bpival, srsval, teamID"
   ]
  },
  {
   "cell_type": "code",
   "execution_count": 92,
   "metadata": {},
   "outputs": [
    {
     "data": {
      "text/plain": [
       "(23.32, 10.7, 17.54)"
      ]
     },
     "execution_count": 92,
     "metadata": {},
     "output_type": "execute_result"
    }
   ],
   "source": [
    "getTeamData('134')"
   ]
  },
  {
   "cell_type": "code",
   "execution_count": 85,
   "metadata": {},
   "outputs": [],
   "source": [
    "def get_needed_odds(conf):\n",
    "    #This function calculates the odds needed for a bet to have an expected value of .1\n",
    "    #An EV of .1 means a $.10 expected return on $1 over time\n",
    "    #The normal formula is EV = (payout * confidence) - (bet * (1-conf))\n",
    "    #payout is the expected profit on a bet.\n",
    "    #confidence is models % chance of winning. 1-conf is for the other team\n",
    "    #The bet is always going to be $1 for simple math which removes the need for the bet variable\n",
    "    #below equation is rearranged to isolate and solve for the payout\n",
    "    payout = round(((.1+(1-conf))/conf),4) \n",
    "    #convert payout to american odds\n",
    "    if 100/payout > 100:\n",
    "        odds = round(-100/payout)\n",
    "    else:\n",
    "        odds = round(100*payout)\n",
    "    return odds"
   ]
  },
  {
   "cell_type": "code",
   "execution_count": 86,
   "metadata": {},
   "outputs": [],
   "source": [
    "def get_ev(odds,conf):\n",
    "    #This calculates the Expected Return on a $1 bet with the actual given bookie odds we pass in\n",
    "    #EV of .1 means a 10 cent return on a $1 bet over time\n",
    "    if int(odds) > 0:\n",
    "        payout = odds/100\n",
    "    else:\n",
    "        payout = -100/odds\n",
    "    ev = (conf * payout) - (1-conf)\n",
    "    return ev"
   ]
  },
  {
   "cell_type": "code",
   "execution_count": 87,
   "metadata": {},
   "outputs": [],
   "source": [
    "def get_kelly_bet(odds,conf):\n",
    "    if int(odds) > 0:\n",
    "        dec = 1+(odds/100)\n",
    "    else:\n",
    "        dec = 1-(100/odds)\n",
    "    kb = ((dec*conf) - (1-conf))/dec\n",
    "    return kb"
   ]
  },
  {
   "cell_type": "code",
   "execution_count": 88,
   "metadata": {
    "scrolled": false
   },
   "outputs": [],
   "source": [
    "def print_games():\n",
    "    url=\"https://fastbreakstats-server-main-hqc7w3njda-uc.a.run.app/teams\"\n",
    "    r = requests.get(url = url).json()\n",
    "    teams = pd.DataFrame(r)\n",
    "#     teams = pd.read_csv('teams_table.csv')\n",
    "    loaded_model = pickle.load(open('6yr_LR.sav', 'rb'))\n",
    "    for game in sports_json['data']:\n",
    "        #Loop through and get odds\n",
    "        odds = ['n/a','n/a']\n",
    "        for site in game['sites']:\n",
    "            if site['site_key'] == 'bovada':\n",
    "                odds = site['odds']['h2h']\n",
    "                sitex = \"bovada\"\n",
    "                break\n",
    "            if site['site_key'] == 'draftkings':\n",
    "                odds = site['odds']['h2h']\n",
    "                sitex = \"DK\"\n",
    "            if site['site_key'] == 'williamhill_us':\n",
    "                odds = site['odds']['h2h']\n",
    "                sitex = \"WH\"\n",
    "            if site['site_key'] == 'fanduel':\n",
    "                odds = site['odds']['h2h']\n",
    "                sitex = \"FD\"\n",
    "\n",
    "        if odds == ['n/a','n/a']:\n",
    "            print(\"There are no odds for {0}\".format(game['teams']))\n",
    "            print()\n",
    "            continue\n",
    "\n",
    "        home = game['home_team']\n",
    "        if game['home_team'] == game['teams'][0]:\n",
    "            away = game['teams'][1]\n",
    "            home_odds = odds[0]\n",
    "            away_odds = odds[1]\n",
    "        else:\n",
    "            away = game['teams'][0]\n",
    "            home_odds = odds[1]\n",
    "            away_odds = odds[0]\n",
    "\n",
    "        try:\n",
    "            home = home.replace(\"-\", \" \")\n",
    "            home = home.replace(\"(\", \"\")\n",
    "            home = home.replace(\")\", \"\")\n",
    "            home = home.replace(\".\", \"\")\n",
    "            away = away.replace(\"-\", \" \")\n",
    "            away = away.replace(\"(\", \"\")\n",
    "            away = away.replace(\")\", \"\")\n",
    "            away = away.replace(\".\", \"\")\n",
    "            homekp, homebpi, homesrs = getTeamData(str(teams.loc[teams['odds_api_name'] == home]['teamID'].values[0]))\n",
    "            awaykp, awaybpi, awaysrs = getTeamData(str(teams.loc[teams['odds_api_name'] == away]['teamID'].values[0]))\n",
    "        except Exception as e:\n",
    "            print(e)\n",
    "            print(game['teams'])\n",
    "            print()\n",
    "            continue\n",
    "\n",
    "        res = loaded_model.predict_proba([[float(awaykp), float(awaybpi), float(awaysrs), float(homekp), float(homebpi), float(homesrs)]])\n",
    "    #     print(res[0])\n",
    "#         print(\"{0} @ {1}\".format(away,home))\n",
    "        away_needed_odds = get_needed_odds(res[0][0])    \n",
    "        home_needed_odds = get_needed_odds(res[0][1])\n",
    "        away_ev = get_ev(away_odds,res[0][0])\n",
    "        home_ev = get_ev(home_odds,res[0][1])\n",
    "        away_kb = get_kelly_bet(away_odds,res[0][0])\n",
    "        home_kb = get_kelly_bet(home_odds,res[0][1])\n",
    "        if away_odds > away_needed_odds:\n",
    "            print(\"{0} @ {1} on {2}\".format(away,home,sitex))\n",
    "            print(\"{0} needs {1} and has {2} odds with an Expected Value of {3}. Kelly Bet {4}\".format(away,away_needed_odds,away_odds,away_ev,away_kb))\n",
    "            print()\n",
    "        if home_odds > home_needed_odds:\n",
    "            print(\"{0} @ {1} on {2}\".format(away,home,sitex))\n",
    "            print(\"{0} needs {1} and has {2} odds with an Expected Value of {3}. Kelly Bet {4}\".format(home,home_needed_odds,home_odds,home_ev,home_kb))\n",
    "            print()"
   ]
  },
  {
   "cell_type": "code",
   "execution_count": 89,
   "metadata": {
    "scrolled": false
   },
   "outputs": [
    {
     "name": "stderr",
     "output_type": "stream",
     "text": [
      "c:\\users\\blake\\appdata\\local\\programs\\python\\python36\\lib\\site-packages\\sklearn\\base.py:318: UserWarning: Trying to unpickle estimator LogisticRegression from version 0.22.1 when using version 0.22.2.post1. This might lead to breaking code or invalid results. Use at your own risk.\n",
      "  UserWarning)\n"
     ]
    },
    {
     "name": "stdout",
     "output_type": "stream",
     "text": [
      "Manhattan Jaspers @ Quinnipiac Bobcats on bovada\n",
      "Quinnipiac Bobcats needs -279.0 and has -150 odds with an Expected Value of 0.3495467512771758. Kelly Bet 0.6955648812260888\n",
      "\n",
      "Rider Broncs @ Niagara Purple Eagles on bovada\n",
      "Niagara Purple Eagles needs -325.0 and has -310 odds with an Expected Value of 0.11260403073410963. Kelly Bet 0.7211970235565335\n",
      "\n",
      "index 0 is out of bounds for axis 0 with size 0\n",
      "[\"Mt. St. Mary's Mountaineers\", 'St. Francis BKN Terriers']\n",
      "\n",
      "Oakland Golden Grizzlies @ Green Bay Phoenix on DK\n",
      "Green Bay Phoenix needs -136.0 and has 112 odds with an Expected Value of 0.34305583053926836. Kelly Bet 0.46064751497030015\n",
      "\n",
      "Georgia Southern Eagles @ Appalachian St Mountaineers on bovada\n",
      "Appalachian St Mountaineers needs -193.0 and has -145 odds with an Expected Value of 0.2251649535685719. Kelly Bet 0.5624003019459015\n",
      "\n",
      "Ohio Bobcats @ Toledo Rockets on DK\n",
      "Toledo Rockets needs -252.0 and has -175 odds with an Expected Value of 0.23711861654400002. Kelly Bet 0.6518755841697852\n",
      "\n",
      "Purdue Boilermakers @ Michigan St Spartans on DK\n",
      "Purdue Boilermakers needs 161.0 and has 165 odds with an Expected Value of 0.11816440172251097. Kelly Bet 0.20381631417403562\n",
      "\n",
      "index 0 is out of bounds for axis 0 with size 0\n",
      "[\"Hawai'i Rainbow Warriors\", 'UC Riverside Highlanders']\n",
      "\n",
      "Northern Kentucky Norse @ Cleveland St Vikings on DK\n",
      "Cleveland St Vikings needs -151.0 and has -124 odds with an Expected Value of 0.1967268492626224. Kelly Bet 0.475628926167504\n",
      "\n",
      "Stetson Hatters @ North Alabama Lions on bovada\n",
      "Stetson Hatters needs -110.0 and has 125 odds with an Expected Value of 0.2968317936602527. Kelly Bet 0.3880895465473227\n",
      "\n",
      "index 0 is out of bounds for axis 0 with size 0\n",
      "['CSU Fullerton Titans', 'Long Beach St 49ers']\n",
      "\n",
      "South Dakota Coyotes @ UMKC Kangaroos on bovada\n",
      "South Dakota Coyotes needs -128.0 and has -125 odds with an Expected Value of 0.11040383496898548. Kelly Bet 0.4040526968867776\n",
      "\n",
      "San José St Spartans @ Fresno St Bulldogs on WH\n",
      "San José St Spartans needs 733.0 and has 800 odds with an Expected Value of 0.1884468863884684. Kelly Bet 0.035610726714625715\n",
      "\n",
      "Dayton Flyers @ Davidson Wildcats on bovada\n",
      "Dayton Flyers needs 226.0 and has 260 odds with an Expected Value of 0.21631674747011176. Kelly Bet 0.15393958629340385\n",
      "\n"
     ]
    }
   ],
   "source": [
    "print_games()"
   ]
  },
  {
   "cell_type": "code",
   "execution_count": null,
   "metadata": {},
   "outputs": [],
   "source": []
  },
  {
   "cell_type": "code",
   "execution_count": null,
   "metadata": {},
   "outputs": [],
   "source": []
  },
  {
   "cell_type": "code",
   "execution_count": null,
   "metadata": {},
   "outputs": [],
   "source": []
  }
 ],
 "metadata": {
  "kernelspec": {
   "display_name": "Python 3",
   "language": "python",
   "name": "python3"
  },
  "language_info": {
   "codemirror_mode": {
    "name": "ipython",
    "version": 3
   },
   "file_extension": ".py",
   "mimetype": "text/x-python",
   "name": "python",
   "nbconvert_exporter": "python",
   "pygments_lexer": "ipython3",
   "version": "3.6.8"
  }
 },
 "nbformat": 4,
 "nbformat_minor": 4
}
