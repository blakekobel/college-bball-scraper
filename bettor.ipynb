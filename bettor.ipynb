{
 "cells": [
  {
   "cell_type": "code",
   "execution_count": 1,
   "metadata": {},
   "outputs": [],
   "source": [
    "from lxml import html\n",
    "import requests\n",
    "from bs4 import BeautifulSoup\n",
    "import csv"
   ]
  },
  {
   "cell_type": "code",
   "execution_count": 16,
   "metadata": {},
   "outputs": [],
   "source": [
    "soup = BeautifulSoup (open(\"bovada20200703.html\"), features=\"lxml\")"
   ]
  },
  {
   "cell_type": "code",
   "execution_count": null,
   "metadata": {},
   "outputs": [],
   "source": []
  },
  {
   "cell_type": "code",
   "execution_count": 17,
   "metadata": {},
   "outputs": [],
   "source": [
    "games = soup.find_all(\"section\", {\"class\": \"coupon-content more-info\"})"
   ]
  },
  {
   "cell_type": "code",
   "execution_count": null,
   "metadata": {},
   "outputs": [],
   "source": []
  },
  {
   "cell_type": "code",
   "execution_count": 19,
   "metadata": {},
   "outputs": [],
   "source": [
    "rows = []\n",
    "for game in games:\n",
    "    teams = game.find_all(\"span\", {\"class\": \"name\"})\n",
    "    verticals= game.find_all(\"sp-two-way-vertical\", {\"class\": \"market-type\"})\n",
    "    moneylines = verticals[1].find_all(\"span\", {\"class\": \"bet-price\"})\n",
    "    if len(moneylines) != 2:\n",
    "        continue\n",
    "    g = [teams[0].contents[0],teams[1].contents[0],moneylines[0].contents[0],moneylines[1].contents[0]]\n",
    "    rows.append(g)"
   ]
  },
  {
   "cell_type": "code",
   "execution_count": 20,
   "metadata": {},
   "outputs": [],
   "source": [
    "f = open('output/moneylines20200307.csv', 'w', newline = '')\n",
    "w = csv.writer(f, delimiter = ',')\n",
    "w.writerows(rows)\n",
    "f.close()"
   ]
  },
  {
   "cell_type": "code",
   "execution_count": 21,
   "metadata": {},
   "outputs": [],
   "source": [
    "#Cleans dirty US odds text and converts to payout relative to bet.\n",
    "# -130 => 100/130 => 0.769\n",
    "# +190 => 190/100 => 1.9\n",
    "\n",
    "def getPayout(oddsText):\n",
    "    oddsText = oddsText.strip()\n",
    "    if oddsText[0]==\"+\":\n",
    "        return float(oddsText[1:])/100\n",
    "    elif oddsText[0]==\"-\":\n",
    "        return 100/float(oddsText[1:])\n",
    "    elif oddsText==\"EVEN\":\n",
    "        return 100/110\n",
    "    else:\n",
    "        return None"
   ]
  },
  {
   "cell_type": "code",
   "execution_count": 22,
   "metadata": {},
   "outputs": [],
   "source": [
    "import requests\n",
    "\n",
    "#Calls FBS API with given team name and returns stats\n",
    "def getTeamData(name):\n",
    "    try:\n",
    "        baseUrl=\"https://api.fastbreakstats.com/teams/\"\n",
    "        params=\"?q=current\"\n",
    "        url=baseUrl+name+params\n",
    "    \n",
    "        r = requests.get(url = url).json()[0]\n",
    "        return r\n",
    "    except IndexError:\n",
    "        print(\"Team error: \" + name)\n",
    "        return None"
   ]
  },
  {
   "cell_type": "code",
   "execution_count": 44,
   "metadata": {},
   "outputs": [
    {
     "name": "stdout",
     "output_type": "stream",
     "text": [
      "V1: 0.8692512138197256\n",
      "V2: 0.8950650181191212\n"
     ]
    }
   ],
   "source": [
    "import math\n",
    "\n",
    "#Returns the confidence that the home team will win.\n",
    "#These numbers come from Blake's built model.\n",
    "def getHomeConfV1(away, home):\n",
    "    t1coef_mult = float(away['KenPomVal']) * -0.04014262 + float(away['BPIval']) * -0.08951514 + float(away['SRS']) * -0.02285489\n",
    "    t2coef_mult = float(home['KenPomVal']) *  0.09251246 + float(home['BPIval']) * 0.00297043  + float(home['SRS']) * 0.02869563\n",
    " \n",
    "    coef_sum = (t1coef_mult + t2coef_mult)+.51305998\n",
    "    eTOs = math.exp(coef_sum)\n",
    "    conf = eTOs / (1+eTOs)\n",
    "    return(conf)\n",
    "\n",
    "def getHomeConfV2(away, home):\n",
    "    t1coef_mult = float(away['KenPomVal']) * -0.14904683 + float(away['BPIval']) * 0.02408791 + float(away['SRS']) * -0.00285878\n",
    "    t2coef_mult = float(home['KenPomVal']) *  0.14617775 + float(home['BPIval']) * -0.05714497+ float(home['SRS']) * 0.03016929\n",
    " \n",
    "    coef_sum = (t1coef_mult + t2coef_mult)+0.53923323\n",
    "    eTOs = math.exp(coef_sum)\n",
    "    conf = eTOs / (1+eTOs)\n",
    "    return(conf)\n",
    "\n",
    "c = getTeamData('Cornell')\n",
    "p = getTeamData('Princeton')\n",
    "\n",
    "print('V1: ' + str(getHomeConfV1(c,p)))\n",
    "print('V2: ' + str(getHomeConfV2(c,p)))"
   ]
  },
  {
   "cell_type": "code",
   "execution_count": 35,
   "metadata": {},
   "outputs": [],
   "source": [
    "def fixName(name):\n",
    "    if name==\"Long Island University\":\n",
    "        return(\"LIU Brooklyn\")\n",
    "    if name==\"Central Florida\":\n",
    "        return(\"UCF\")\n",
    "    if name==\"St. Francis \":\n",
    "        return(\"St. Francis (PA)\")\n",
    "    if name==\"Mount St Mary's\":\n",
    "        return(\"Mt. St. Mary's\")\n",
    "    if name==\"Texas San Antonio\":\n",
    "        return(\"UTSA\")\n",
    "    if name==\"Florida International\":\n",
    "        return(\"FIU\")\n",
    "    if name==\"Middle Tennessee St.\":\n",
    "        return(\"Middle Tennessee\")\n",
    "    if name==\"Southern Mississippi\":\n",
    "        return(\"Southern Miss\")\n",
    "    if name==\"Texas A&M Corpus\":\n",
    "        return(\"Texas A&M-CC\")\n",
    "    if name==\"Miami Florida\":\n",
    "        return(\"Miami\")\n",
    "    if name==\"CS Northridge\":\n",
    "        return(\"CSU Northridge\")\n",
    "    if name==\"Cal Irvine\":\n",
    "        return(\"UC Irvine\")\n",
    "    return name"
   ]
  },
  {
   "cell_type": "code",
   "execution_count": null,
   "metadata": {},
   "outputs": [
    {
     "name": "stdout",
     "output_type": "stream",
     "text": [
      "Team error: UL Lafayette\n",
      "['Auburn @ Tennessee', '1.25', '0.6896551724137931', '0.47669650694487453', '0.5233034930551255', '0.0725671406259677', '-0.11579754621720179', '0.4528792663643946', '0.5471207336356054', '0.0427955899003678', '-0.09937186305825008']\n",
      "[\"Marquette @ St. John's\", '0.6451612903225806', '1.35', '0.5714390713592432', '0.4285609286407568', '-0.05989056002189019', '0.007118182305778542', '0.5823473301526678', '0.4176526698473321', '-0.05285297370355174', '-0.007607967065344834']\n",
      "['Villanova @ Georgetown', '0.2702702702702703', '2.85', '0.6180440499732299', '0.3819559500267701', '-0.21491701760157278', '0.47053040760306486', '0.6454255329597014', '0.3545744670402986', '-0.20751661679441832', '0.3924931810916211']\n",
      "['Wisconsin @ Indiana', '1.2', '0.7142857142857143', '0.44293994121626445', '0.5570600587837355', '-0.025532129324218222', '-0.04503989922788193', '0.45935051670557403', '0.540649483294426', '-0.0058394387370467316', '-0.05676173886310304']\n",
      "['South Carolina @ Vanderbilt', '0.5', '1.7', '0.6804657093259739', '0.31953429067402606', '0.020698563988960916', '-0.13725741518012968', '0.7212900212214262', '0.2787099787785739', '0.041110719936687024', '-0.20665874540239831']\n",
      "['Kentucky @ Florida', '1.2', '0.7142857142857143', '0.39225328863772313', '0.6077467113622769', '-0.13704276499700913', '0.04185150519247466', '0.38950594343804334', '0.6104940565619567', '-0.14033957923662488', '0.04381389462081736']\n",
      "['George Mason @ Fordham', '0.7407407407407407', '1.15', '0.5922645501858638', '0.40773544981413623', '0.030979031805022095', '-0.12336878289960712', '0.6090101243623135', '0.3909898756376865', '0.043383160824614464', '-0.14262619320252434']\n"
     ]
    }
   ],
   "source": [
    "import csv\n",
    "import unicodedata\n",
    "with open('output/moneylines20200307.csv', newline='') as csvfile:\n",
    "    spamreader = csv.reader(csvfile, delimiter=',', quotechar='|')\n",
    "    output_rows=[]\n",
    "    output_rows.append(['Game', 'awayPayout', 'homePayout', 'oldAwayConf', 'oldHomeConf', 'oldAwayEV', 'oldHomeEV', 'newAwayConf', 'newHomeConf', 'newAwayEV', 'newHomeEV'])\n",
    "    for row in spamreader:\n",
    "        #Calculate payouts for each team\n",
    "        awayPayout=getPayout(row[2])\n",
    "        homePayout=getPayout(row[3])\n",
    "        \n",
    "        #If odds aren't set on one skip the game\n",
    "        if awayPayout==None or homePayout==None:\n",
    "            continue\n",
    "        \n",
    "        # [Away, Home]\n",
    "        teams=[row[0], row[1]]\n",
    "        for i, team in enumerate(teams):\n",
    "            \n",
    "            #Removing leading and trailing spaces.\n",
    "            #string.strip() seems to replace spaces with \\xa0 spaces, so we undo that.\n",
    "            teams[i]=team.strip()\n",
    "            teams[i] = teams[i].replace(u'\\xa0', u' ')\n",
    "            \n",
    "            #Get rid of ranks\n",
    "            index=team.find(\"(\")\n",
    "            if index>=0:\n",
    "                teams[i]=team[:index]\n",
    "                \n",
    "            teams[i]=teams[i].replace(\"State\", \"St.\")\n",
    "            teams[i]=fixName(teams[i])\n",
    "        #Get team stats. Skip game if name error\n",
    "        away=getTeamData(teams[0])\n",
    "        home=getTeamData(teams[1])\n",
    "        if away==None or home==None:\n",
    "            continue\n",
    "\n",
    "        #Calculate confidences\n",
    "        homeConf=getHomeConfV1(away,home)\n",
    "        awayConf=1-homeConf\n",
    "        newHomeConf=getHomeConfV2(away,home)\n",
    "        newAwayConf=1-newHomeConf\n",
    "        \n",
    "        #Calculate expected value of each bet\n",
    "        awayEV=awayConf*awayPayout-homeConf\n",
    "        homeEV=homeConf*homePayout-awayConf\n",
    "        newAwayEV=newAwayConf*awayPayout-homeConf\n",
    "        newHomeEV=newHomeConf*homePayout-awayConf\n",
    "        \n",
    "        r=[\n",
    "            away['Team'][0] + \" @ \" + home['Team'][0],\n",
    "            str(awayPayout), str(homePayout),\n",
    "            str(awayConf), str(homeConf),\n",
    "            str(awayEV),str(homeEV),\n",
    "            str(newAwayConf), str(newHomeConf),\n",
    "            str(newAwayEV), str(newHomeEV)\n",
    "        ]\n",
    "        output_rows.append(r)\n",
    "        print(r)\n",
    "        \n",
    "    f = open('output/bets20200307.csv', 'w', newline = '')\n",
    "    w = csv.writer(f, delimiter = ',')\n",
    "    w.writerows(output_rows)\n",
    "    f.close()"
   ]
  },
  {
   "cell_type": "code",
   "execution_count": null,
   "metadata": {},
   "outputs": [],
   "source": []
  }
 ],
 "metadata": {
  "kernelspec": {
   "display_name": "Python 3",
   "language": "python",
   "name": "python3"
  },
  "language_info": {
   "codemirror_mode": {
    "name": "ipython",
    "version": 3
   },
   "file_extension": ".py",
   "mimetype": "text/x-python",
   "name": "python",
   "nbconvert_exporter": "python",
   "pygments_lexer": "ipython3",
   "version": "3.7.6"
  }
 },
 "nbformat": 4,
 "nbformat_minor": 4
}
