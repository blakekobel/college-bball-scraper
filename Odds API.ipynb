{
 "cells": [
  {
   "cell_type": "code",
   "execution_count": 73,
   "metadata": {},
   "outputs": [],
   "source": [
    "import json\n",
    "import requests\n",
    "import datetime as dt\n",
    "import pickle\n",
    "\n",
    "# An api key is emailed to you when you sign up to a plan\n",
    "# api_key = 'da3195c8356b3b0ee3e5a6682ed9c537'\n"
   ]
  },
  {
   "cell_type": "code",
   "execution_count": 74,
   "metadata": {},
   "outputs": [],
   "source": [
    "# sports_response = requests.get('https://api.the-odds-api.com/v3/odds', params={\n",
    "#     'api_key': api_key,\n",
    "#     'sport': 'basketball_ncaab',\n",
    "#     'region': 'us'\n",
    "# })\n",
    "\n",
    "# fbs_response = requests.get('https://api.fastbreakstats.com/teams')\n",
    "# fbs_data = json.loads(fbs_response.text)\n",
    "\n",
    "# sports_json = json.loads(sports_response.text)\n",
    "with open('odds.json') as f:\n",
    "    sports_json = json.load(f)"
   ]
  },
  {
   "cell_type": "code",
   "execution_count": 121,
   "metadata": {},
   "outputs": [],
   "source": [
    "def getTeamData(name):\n",
    "    name = \" \".join(name.split()[:-1])\n",
    "    name = name.replace('-',' ')\n",
    "    name = name.replace(' ','%20')\n",
    "    try:\n",
    "        baseUrl=\"https://api.fastbreakstats.com/teams/\"\n",
    "        params=\"?q=current\"\n",
    "        url=baseUrl+name+params\n",
    "#         print(url)\n",
    "    \n",
    "        r = requests.get(url = url).json()[0]\n",
    "        print(r)\n",
    "    except IndexError:\n",
    "        try:\n",
    "            name = name.replace('%20',' ')\n",
    "            name = \" \".join(name.split()[:-1])\n",
    "            name = name.replace('-',' ')\n",
    "            name = name.replace(' ','%20')\n",
    "            baseUrl=\"https://api.fastbreakstats.com/teams/\"\n",
    "            params=\"?q=current\"\n",
    "            url=baseUrl+name+params\n",
    "\n",
    "            r = requests.get(url = url).json()[0]\n",
    "            print(r)\n",
    "        except IndexError:\n",
    "            print(\"Team error: \" + name)"
   ]
  },
  {
   "cell_type": "code",
   "execution_count": 122,
   "metadata": {},
   "outputs": [
    {
     "name": "stdout",
     "output_type": "stream",
     "text": [
      "{'BPIrank': '125', 'BPIval': '1.8', 'KenPomRank': 116, 'KenPomVal': '4.71', 'Opp_Three_Par': '0.364', 'Opp_Tov': '21.4', 'Opp_True_Shoot': '0.509', 'Pace': '68.1', 'SRS': '14.17', 'Team': ['East Carolina', 'East Carolina', 'East Carolina'], 'Three_Par': '0.325', 'Tov': '14.6', 'True_Shoot': '0.561', 'd_eff': '85.59', 'o_eff': '107.69', 'papg': '61.8', 'ppg': '77', 'record_time': 'Thu, 10 Dec 2020 07:00:00 GMT'}\n",
      "{'BPIrank': '270', 'BPIval': '-4.2', 'KenPomRank': 307, 'KenPomVal': '-11.64', 'Opp_Three_Par': '0.276', 'Opp_Tov': '11.1', 'Opp_True_Shoot': '0.53', 'Pace': '71.8', 'SRS': '-10.07', 'Team': ['North Florida', 'North Florida', 'North Florida'], 'Three_Par': '0.497', 'Tov': '23.2', 'True_Shoot': '0.516', 'd_eff': '109.77', 'o_eff': '97.76', 'papg': '82.2', 'ppg': '64.3', 'record_time': 'Thu, 10 Dec 2020 07:00:00 GMT'}\n",
      "{'BPIrank': '310', 'BPIval': '-6.2', 'KenPomRank': 252, 'KenPomVal': '-7.51', 'Opp_Three_Par': '0.227', 'Opp_Tov': '15', 'Opp_True_Shoot': '0.551', 'Pace': '70.4', 'SRS': '-11.63', 'Team': ['North Dakota', 'North Dakota', 'North Dakota'], 'Three_Par': '0.387', 'Tov': '20.3', 'True_Shoot': '0.527', 'd_eff': '114.56', 'o_eff': '99.32', 'papg': '77', 'ppg': '69', 'record_time': 'Thu, 10 Dec 2020 07:00:00 GMT'}\n",
      "{'BPIrank': '321', 'BPIval': '-7.3', 'KenPomRank': 221, 'KenPomVal': '-5.4', 'Opp_Three_Par': '0.338', 'Opp_Tov': '12.9', 'Opp_True_Shoot': '0.514', 'Pace': '71.2', 'SRS': '-1.98', 'Team': ['South Dakota', 'South Dakota', 'South Dakota'], 'Three_Par': '0.341', 'Tov': '15.6', 'True_Shoot': '0.444', 'd_eff': '92.11', 'o_eff': '92.79', 'papg': '76.3', 'ppg': '61', 'record_time': 'Thu, 10 Dec 2020 07:00:00 GMT'}\n",
      "{'BPIrank': '145', 'BPIval': '0.9', 'KenPomRank': 144, 'KenPomVal': '1.38', 'Opp_Three_Par': '0.38', 'Opp_Tov': '17.3', 'Opp_True_Shoot': '0.495', 'Pace': '75.5', 'SRS': '37.3', 'Team': ['Mercer', 'Mercer', 'Mercer'], 'Three_Par': '0.4', 'Tov': '16.4', 'True_Shoot': '0.606', 'd_eff': '71.25', 'o_eff': '123.55', 'papg': '67.4', 'ppg': '86.4', 'record_time': 'Thu, 10 Dec 2020 07:00:00 GMT'}\n",
      "{'BPIrank': '296', 'BPIval': '-5.3', 'KenPomRank': 251, 'KenPomVal': '-7.38', 'Opp_Three_Par': '0.425', 'Opp_Tov': '15.7', 'Opp_True_Shoot': '0.477', 'Pace': '75.1', 'SRS': '7.2', 'Team': ['VMI', 'VMI', 'VMI'], 'Three_Par': '0.478', 'Tov': '19.3', 'True_Shoot': '0.584', 'd_eff': '87.17', 'o_eff': '99.71', 'papg': '69.8', 'ppg': '79.2', 'record_time': 'Thu, 10 Dec 2020 07:00:00 GMT'}\n",
      "{'BPIrank': '176', 'BPIval': '-0.7', 'KenPomRank': 246, 'KenPomVal': '-7.1', 'Opp_Three_Par': '0.411', 'Opp_Tov': '25.1', 'Opp_True_Shoot': '0.466', 'Pace': '74', 'SRS': '0', 'Team': ['North Alabama', 'North Alabama', 'North Alabama'], 'Three_Par': '0.418', 'Tov': '9.2', 'True_Shoot': '0.614', 'd_eff': '0', 'o_eff': '0', 'papg': '57', 'ppg': '102.5', 'record_time': 'Thu, 10 Dec 2020 07:00:00 GMT'}\n",
      "{'BPIrank': '281', 'BPIval': '-4.7', 'KenPomRank': 302, 'KenPomVal': '-11.13', 'Opp_Three_Par': '0.378', 'Opp_Tov': '15.3', 'Opp_True_Shoot': '0.564', 'Pace': '69.2', 'SRS': '-13.29', 'Team': ['Troy', 'Troy', 'Troy'], 'Three_Par': '0.348', 'Tov': '18.5', 'True_Shoot': '0.411', 'd_eff': '102.43', 'o_eff': '83.64', 'papg': '73.5', 'ppg': '54.3', 'record_time': 'Thu, 10 Dec 2020 07:00:00 GMT'}\n",
      "Team error: Coppin\n",
      "{'BPIrank': '85', 'BPIval': '4.3', 'KenPomRank': 100, 'KenPomVal': '6.88', 'Opp_Three_Par': '0.276', 'Opp_Tov': '20.4', 'Opp_True_Shoot': '0.567', 'Pace': '75.6', 'SRS': '-1.26', 'Team': ['UNC Greensboro', 'North Carolina-Greensboro', 'UNC Greensboro'], 'Three_Par': '0.421', 'Tov': '20.7', 'True_Shoot': '0.493', 'd_eff': '98.17', 'o_eff': '99.94', 'papg': '75.3', 'ppg': '70.7', 'record_time': 'Thu, 10 Dec 2020 07:00:00 GMT'}\n",
      "{'BPIrank': '213', 'BPIval': '-2.2', 'KenPomRank': 313, 'KenPomVal': '-12.15', 'Opp_Three_Par': '0.458', 'Opp_Tov': '16.1', 'Opp_True_Shoot': '0.765', 'Pace': '68.1', 'SRS': '-39.55', 'Team': ['Northern Arizona', 'Northern Arizona', 'Northern Arizona'], 'Three_Par': '0.339', 'Tov': '14.9', 'True_Shoot': '0.387', 'd_eff': '135.65', 'o_eff': '80.21', 'papg': '96', 'ppg': '53', 'record_time': 'Thu, 10 Dec 2020 07:00:00 GMT'}\n",
      "{'BPIrank': '194', 'BPIval': '-1.5', 'KenPomRank': 166, 'KenPomVal': '-1.01', 'Opp_Three_Par': '0.293', 'Opp_Tov': '14.8', 'Opp_True_Shoot': '0.449', 'Pace': '67', 'SRS': '1.37', 'Team': ['UC Riverside', 'UC-Riverside', 'UC Riverside'], 'Three_Par': '0.428', 'Tov': '18.5', 'True_Shoot': '0.539', 'd_eff': '96.47', 'o_eff': '101.27', 'papg': '57', 'ppg': '66.7', 'record_time': 'Thu, 10 Dec 2020 07:00:00 GMT'}\n",
      "{'BPIrank': '54', 'BPIval': '6.4', 'KenPomRank': 48, 'KenPomVal': '16.19', 'Opp_Three_Par': '0.35', 'Opp_Tov': '20.3', 'Opp_True_Shoot': '0.499', 'Pace': '75.4', 'SRS': '7.78', 'Team': ['Minnesota', 'Minnesota', 'Minnesota'], 'Three_Par': '0.329', 'Tov': '13.2', 'True_Shoot': '0.536', 'd_eff': '88.14', 'o_eff': '97.09', 'papg': '70.6', 'ppg': '83', 'record_time': 'Thu, 10 Dec 2020 07:00:00 GMT'}\n",
      "{'BPIrank': '187', 'BPIval': '-1.3', 'KenPomRank': 283, 'KenPomVal': '-9.75', 'Opp_Three_Par': '0.502', 'Opp_Tov': '23.8', 'Opp_True_Shoot': '0.517', 'Pace': '76.7', 'SRS': '-11.44', 'Team': ['UM Kansas City', 'Missouri-Kansas City', 'UMKC'], 'Three_Par': '0.244', 'Tov': '17.4', 'True_Shoot': '0.656', 'd_eff': '101.31', 'o_eff': '83.92', 'papg': '66.3', 'ppg': '91.8', 'record_time': 'Thu, 10 Dec 2020 07:00:00 GMT'}\n",
      "{'BPIrank': '209', 'BPIval': '-2', 'KenPomRank': 249, 'KenPomVal': '-7.32', 'Opp_Three_Par': '0', 'Opp_Tov': '0', 'Opp_True_Shoot': '0', 'Pace': '0', 'SRS': '0', 'Team': ['Gardner-Webb', 'Gardner-Webb', 'Gardner Webb'], 'Three_Par': '0', 'Tov': '0', 'True_Shoot': '0', 'd_eff': '0', 'o_eff': '0', 'papg': '0', 'ppg': '0', 'record_time': 'Thu, 10 Dec 2020 07:00:00 GMT'}\n",
      "{'BPIrank': '57', 'BPIval': '6.3', 'KenPomRank': 76, 'KenPomVal': '10.55', 'Opp_Three_Par': '0.418', 'Opp_Tov': '16.8', 'Opp_True_Shoot': '0.558', 'Pace': '72.3', 'SRS': '4.27', 'Team': ['Western Kentucky', 'Western Kentucky', 'Western Kentucky'], 'Three_Par': '0.338', 'Tov': '16.4', 'True_Shoot': '0.543', 'd_eff': '97.97', 'o_eff': '106.88', 'papg': '74', 'ppg': '76.4', 'record_time': 'Thu, 10 Dec 2020 07:00:00 GMT'}\n",
      "Team error: Jackson\n",
      "Team error: Ole\n",
      "{'BPIrank': '25', 'BPIval': '8.9', 'KenPomRank': 25, 'KenPomVal': '19.73', 'Opp_Three_Par': '0.41', 'Opp_Tov': '17', 'Opp_True_Shoot': '0.514', 'Pace': '71.9', 'SRS': '18.69', 'Team': ['Oregon', 'Oregon', 'Oregon'], 'Three_Par': '0.348', 'Tov': '16.4', 'True_Shoot': '0.572', 'd_eff': '87.14', 'o_eff': '115.3', 'papg': '67.8', 'ppg': '78.5', 'record_time': 'Thu, 10 Dec 2020 07:00:00 GMT'}\n",
      "{'BPIrank': '308', 'BPIval': '-6.1', 'KenPomRank': 281, 'KenPomVal': '-9.58', 'Opp_Three_Par': '0.442', 'Opp_Tov': '20.3', 'Opp_True_Shoot': '0.545', 'Pace': '77.4', 'SRS': '-36.02', 'Team': ['Portland', 'Portland', 'Portland'], 'Three_Par': '0.308', 'Tov': '18.1', 'True_Shoot': '0.569', 'd_eff': '127.17', 'o_eff': '78.85', 'papg': '74.8', 'ppg': '78.8', 'record_time': 'Thu, 10 Dec 2020 07:00:00 GMT'}\n",
      "{'BPIrank': '87', 'BPIval': '4.3', 'KenPomRank': 72, 'KenPomVal': '11.34', 'Opp_Three_Par': '0.421', 'Opp_Tov': '24.9', 'Opp_True_Shoot': '0.501', 'Pace': '72.8', 'SRS': '-0.04', 'Team': ['Texas A&M', 'Texas A&M', 'Texas A&M'], 'Three_Par': '0.457', 'Tov': '22', 'True_Shoot': '0.605', 'd_eff': '97.68', 'o_eff': '100.75', 'papg': '62.3', 'ppg': '78.7', 'record_time': 'Thu, 10 Dec 2020 07:00:00 GMT'}\n",
      "{'BPIrank': '271', 'BPIval': '-4.2', 'KenPomRank': 222, 'KenPomVal': '-5.42', 'Opp_Three_Par': '0.352', 'Opp_Tov': '18.6', 'Opp_True_Shoot': '0.525', 'Pace': '74.3', 'SRS': '-16.52', 'Team': ['UT Rio Grande Valley', 'Texas-Rio Grande Valley', 'UT Rio Grande Valley'], 'Three_Par': '0.353', 'Tov': '15.5', 'True_Shoot': '0.476', 'd_eff': '111.87', 'o_eff': '93.44', 'papg': '72.6', 'ppg': '71.4', 'record_time': 'Thu, 10 Dec 2020 07:00:00 GMT'}\n",
      "{'BPIrank': '310', 'BPIval': '-6.2', 'KenPomRank': 252, 'KenPomVal': '-7.51', 'Opp_Three_Par': '0.227', 'Opp_Tov': '15', 'Opp_True_Shoot': '0.551', 'Pace': '70.4', 'SRS': '-11.63', 'Team': ['North Dakota', 'North Dakota', 'North Dakota'], 'Three_Par': '0.387', 'Tov': '20.3', 'True_Shoot': '0.527', 'd_eff': '114.56', 'o_eff': '99.32', 'papg': '77', 'ppg': '69', 'record_time': 'Thu, 10 Dec 2020 07:00:00 GMT'}\n"
     ]
    },
    {
     "name": "stdout",
     "output_type": "stream",
     "text": [
      "{'BPIrank': '321', 'BPIval': '-7.3', 'KenPomRank': 221, 'KenPomVal': '-5.4', 'Opp_Three_Par': '0.338', 'Opp_Tov': '12.9', 'Opp_True_Shoot': '0.514', 'Pace': '71.2', 'SRS': '-1.98', 'Team': ['South Dakota', 'South Dakota', 'South Dakota'], 'Three_Par': '0.341', 'Tov': '15.6', 'True_Shoot': '0.444', 'd_eff': '92.11', 'o_eff': '92.79', 'papg': '76.3', 'ppg': '61', 'record_time': 'Thu, 10 Dec 2020 07:00:00 GMT'}\n",
      "Team error: Long%20Beach\n",
      "{'BPIrank': '115', 'BPIval': '2.6', 'KenPomRank': 75, 'KenPomVal': '10.79', 'Opp_Three_Par': '0.279', 'Opp_Tov': '17.4', 'Opp_True_Shoot': '0.513', 'Pace': '71', 'SRS': '9.55', 'Team': ['San Francisco', 'San Francisco', 'San Francisco'], 'Three_Par': '0.493', 'Tov': '14.6', 'True_Shoot': '0.543', 'd_eff': '89.5', 'o_eff': '104.62', 'papg': '68', 'ppg': '75.3', 'record_time': 'Thu, 10 Dec 2020 07:00:00 GMT'}\n",
      "Team error: Arizona%20St\n",
      "{'BPIrank': '148', 'BPIval': '0.7', 'KenPomRank': 159, 'KenPomVal': '-0.32', 'Opp_Three_Par': '0.2', 'Opp_Tov': '11.7', 'Opp_True_Shoot': '0.55', 'Pace': '69.8', 'SRS': '-22.41', 'Team': ['San Diego', 'San Diego', 'San Diego'], 'Three_Par': '0.311', 'Tov': '15', 'True_Shoot': '0.411', 'd_eff': '105.15', 'o_eff': '76.7', 'papg': '83', 'ppg': '56', 'record_time': 'Thu, 10 Dec 2020 07:00:00 GMT'}\n"
     ]
    }
   ],
   "source": [
    "import numpy as np\n",
    "with open('odds.json') as f:\n",
    "    sports_json = json.load(f)\n",
    "    \n",
    "for game in sports_json['data']:\n",
    "    for team in game['teams']:\n",
    "        getTeamData(team)"
   ]
  },
  {
   "cell_type": "code",
   "execution_count": 76,
   "metadata": {},
   "outputs": [
    {
     "name": "stdout",
     "output_type": "stream",
     "text": [
      "https://api.fastbreakstats.com/teams/Boise%20St.?q=current\n",
      "https://api.fastbreakstats.com/teams/BYU?q=current\n",
      "V1: 0.5475018748866972\n"
     ]
    }
   ],
   "source": [
    "import math\n",
    "\n",
    "#Returns the confidence that the home team will win.\n",
    "\n",
    "def getHomeConf(away, home):\n",
    "    t1coef_mult = float(away['KenPomVal']) * -0.14904683 + float(away['BPIval']) * 0.02408791 + float(away['SRS']) * -0.00285878\n",
    "    t2coef_mult = float(home['KenPomVal']) *  0.14617775 + float(home['BPIval']) * -0.05714497+ float(home['SRS']) * 0.03016929\n",
    " \n",
    "    coef_sum = (t1coef_mult + t2coef_mult)+0.53923323\n",
    "    eTOs = math.exp(coef_sum)\n",
    "    conf = eTOs / (1+eTOs)\n",
    "    return(conf)\n",
    "\n",
    "a = getTeamData('Boise St.')\n",
    "h = getTeamData('BYU')\n",
    "\n",
    "print('V1: ' + str(getHomeConf(a, h)))"
   ]
  },
  {
   "cell_type": "code",
   "execution_count": 77,
   "metadata": {},
   "outputs": [
    {
     "data": {
      "text/plain": [
       "array([[-0.14904683,  0.02408791, -0.00285878,  0.14617775, -0.05714497,\n",
       "         0.03016929]])"
      ]
     },
     "execution_count": 77,
     "metadata": {},
     "output_type": "execute_result"
    }
   ],
   "source": [
    "loaded_model = pickle.load(open('6yr_LR.sav', 'rb'))\n",
    "loaded_model.coef_"
   ]
  },
  {
   "cell_type": "code",
   "execution_count": 78,
   "metadata": {
    "scrolled": true
   },
   "outputs": [
    {
     "name": "stdout",
     "output_type": "stream",
     "text": [
      "https://api.fastbreakstats.com/teams/Kansas?q=current\n",
      "{'BPIrank': '19', 'BPIval': '9.6', 'KenPomRank': 9, 'KenPomVal': '21.95', 'Opp_Three_Par': '0.401', 'Opp_Tov': '17.2', 'Opp_True_Shoot': '0.511', 'Pace': '74.8', 'SRS': '9.28', 'Team': ['Kansas', 'Kansas', 'Kansas'], 'Three_Par': '0.319', 'Tov': '14.9', 'True_Shoot': '0.533', 'd_eff': '90.43', 'o_eff': '104.49', 'papg': '70.5', 'ppg': '79.3', 'record_time': 'Thu, 10 Dec 2020 07:00:00 GMT'}\n"
     ]
    }
   ],
   "source": [
    "stuff = getTeamData('Kansas')\n",
    "print(stuff)"
   ]
  },
  {
   "cell_type": "code",
   "execution_count": 79,
   "metadata": {},
   "outputs": [],
   "source": [
    "start_time = sports_json['data'][0]['commence_time']"
   ]
  },
  {
   "cell_type": "code",
   "execution_count": 80,
   "metadata": {},
   "outputs": [
    {
     "data": {
      "text/plain": [
       "'Thursday, December 10, 2020 04:00:00'"
      ]
     },
     "execution_count": 80,
     "metadata": {},
     "output_type": "execute_result"
    }
   ],
   "source": [
    "dt.datetime.fromtimestamp(start_time).strftime(\"%A, %B %d, %Y %I:%M:%S\")"
   ]
  },
  {
   "cell_type": "code",
   "execution_count": 90,
   "metadata": {},
   "outputs": [
    {
     "name": "stdout",
     "output_type": "stream",
     "text": [
      "['East Carolina Pirates', 'North Florida Ospreys'] East Carolina Pirates\n",
      "[-1429, 775] bovada\n",
      "['North Dakota Fighting Hawks', 'South Dakota Coyotes'] South Dakota Coyotes\n",
      "[145, -164] bovada\n",
      "['Mercer Bears', 'VMI Keydets'] VMI Keydets\n",
      "[-303, 250] bovada\n",
      "['North Alabama Lions', 'Troy Trojans'] North Alabama Lions\n",
      "[-238, 200] bovada\n",
      "['Coppin St Eagles', 'UNC Greensboro Spartans'] Coppin St Eagles\n",
      "[900, -2000] bovada\n",
      "['Northern Arizona Lumberjacks', 'UC Riverside Highlanders'] Northern Arizona Lumberjacks\n",
      "[230, -278] bovada\n",
      "['Minnesota Golden Gophers', 'UMKC Kangaroos'] Minnesota Golden Gophers\n",
      "[-3333, 1200] draftkings\n",
      "['Gardner-Webb Bulldogs', 'Western Kentucky Hilltoppers'] Western Kentucky Hilltoppers\n",
      "[1000, -2000] draftkings\n",
      "['Jackson St Tigers', 'Ole Miss Rebels'] Ole Miss Rebels\n",
      "[1800, -10000] draftkings\n",
      "['Oregon St Beavers', 'Portland Pilots'] Oregon St Beavers\n",
      "[-1250, 750] draftkings\n",
      "['Texas A&M-CC Islanders', 'UT Rio Grande Valley Vaqueros'] Texas A&M-CC Islanders\n",
      "[155, -185] draftkings\n",
      "['North Dakota St Bison', 'South Dakota St Jackrabbits'] South Dakota St Jackrabbits\n",
      "[330, -435] draftkings\n",
      "['Long Beach St 49ers', 'San Francisco Dons'] San Francisco Dons\n",
      "[900, -2000] bovada\n",
      "['Arizona St Sun Devils', 'San Diego St Aztecs'] Arizona St Sun Devils\n",
      "[-200, 165] draftkings\n"
     ]
    }
   ],
   "source": [
    "import numpy as np\n",
    "with open('odds.json') as f:\n",
    "    sports_json = json.load(f)\n",
    "    \n",
    "for game in sports_json['data']:\n",
    "    print(game['teams'],game['home_team'])\n",
    "    for site in game['sites']:\n",
    "        if site['site_key'] == 'bovada':\n",
    "            odds = site['odds']['h2h']\n",
    "            for x in range(len(odds)):\n",
    "                y = odds[x]\n",
    "                if y==1:\n",
    "                    break\n",
    "                elif y<2:\n",
    "                    y = round(-100/(y-1))\n",
    "                else:\n",
    "                    y = round((y-1)*100)\n",
    "                odds[x] = y\n",
    "            print(odds,site['site_key'])\n",
    "            break\n",
    "        elif site['site_key'] == 'draftkings':\n",
    "            odds = site['odds']['h2h']\n",
    "            for x in range(len(odds)):\n",
    "                y = odds[x]\n",
    "                if y==1:\n",
    "                    break\n",
    "                elif y<2:\n",
    "                    y = round(-100/(y-1))\n",
    "                else:\n",
    "                    y = round((y-1)*100)\n",
    "                odds[x] = y\n",
    "            print(odds,site['site_key'])"
   ]
  },
  {
   "cell_type": "code",
   "execution_count": 91,
   "metadata": {},
   "outputs": [
    {
     "data": {
      "text/plain": [
       "{'sport_key': 'basketball_ncaab',\n",
       " 'sport_nice': 'NCAAB',\n",
       " 'teams': ['Minnesota Golden Gophers', 'UMKC Kangaroos'],\n",
       " 'commence_time': 1607648400,\n",
       " 'home_team': 'Minnesota Golden Gophers',\n",
       " 'sites': [{'site_key': 'fanduel',\n",
       "   'site_nice': 'FanDuel',\n",
       "   'last_update': 1607604658,\n",
       "   'odds': {'h2h': [1.02, 17.0]}},\n",
       "  {'site_key': 'betrivers',\n",
       "   'site_nice': 'BetRivers',\n",
       "   'last_update': 1607604698,\n",
       "   'odds': {'h2h': [1.03, 13.0]}},\n",
       "  {'site_key': 'sugarhouse',\n",
       "   'site_nice': 'SugarHouse',\n",
       "   'last_update': 1607604651,\n",
       "   'odds': {'h2h': [1.03, 13.0]}},\n",
       "  {'site_key': 'draftkings',\n",
       "   'site_nice': 'DraftKings',\n",
       "   'last_update': 1607604692,\n",
       "   'odds': {'h2h': [-3333, 1200]}}],\n",
       " 'sites_count': 4}"
      ]
     },
     "execution_count": 91,
     "metadata": {},
     "output_type": "execute_result"
    }
   ],
   "source": [
    "sports_json['data'][6]"
   ]
  },
  {
   "cell_type": "code",
   "execution_count": null,
   "metadata": {},
   "outputs": [],
   "source": []
  }
 ],
 "metadata": {
  "kernelspec": {
   "display_name": "Python 3",
   "language": "python",
   "name": "python3"
  },
  "language_info": {
   "codemirror_mode": {
    "name": "ipython",
    "version": 3
   },
   "file_extension": ".py",
   "mimetype": "text/x-python",
   "name": "python",
   "nbconvert_exporter": "python",
   "pygments_lexer": "ipython3",
   "version": "3.7.4"
  }
 },
 "nbformat": 4,
 "nbformat_minor": 4
}
