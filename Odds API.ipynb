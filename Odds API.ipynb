{
 "cells": [
  {
   "cell_type": "code",
   "execution_count": 12,
   "metadata": {},
   "outputs": [],
   "source": [
    "import json\n",
    "import requests\n",
    "import datetime as dt\n",
    "import pickle\n",
    "import pandas as pd\n",
    "\n",
    "# An api key is emailed to you when you sign up to a plan\n",
    "api_key = 'da3195c8356b3b0ee3e5a6682ed9c537'\n"
   ]
  },
  {
   "cell_type": "code",
   "execution_count": 13,
   "metadata": {},
   "outputs": [],
   "source": [
    "teams = pd.read_csv('teams_table.csv')"
   ]
  },
  {
   "cell_type": "code",
   "execution_count": 3,
   "metadata": {},
   "outputs": [],
   "source": [
    "sports_response = requests.get('https://api.the-odds-api.com/v3/odds', params={\n",
    "    'api_key': api_key,\n",
    "    'sport': 'basketball_ncaab',\n",
    "    'region': 'us',\n",
    "    'oddsFormat': 'american'\n",
    "})\n",
    "\n",
    "\n",
    "# fbs_response = requests.get('https://api.fastbreakstats.com/teams')\n",
    "# fbs_data = json.loads(fbs_response.text)\n",
    "\n",
    "sports_json = json.loads(sports_response.text)\n",
    "date = dt.datetime.today().date().strftime('%Y-%m-%d')\n",
    "with open(str(date)+'.json', 'w') as outfile:\n",
    "    json.dump(sports_json, outfile)\n",
    "# with open('odds.json') as f:\n",
    "#     sports_json = json.load(f)"
   ]
  },
  {
   "cell_type": "code",
   "execution_count": 4,
   "metadata": {},
   "outputs": [],
   "source": [
    "date = dt.datetime.today().date().strftime('%Y-%m-%d')\n",
    "with open(str(date)+'.json') as f:\n",
    "    sports_json = json.load(f)"
   ]
  },
  {
   "cell_type": "code",
   "execution_count": 5,
   "metadata": {},
   "outputs": [],
   "source": [
    "def getTeamData(name):\n",
    "    name = name.replace(\" \", \"%20\")\n",
    "    baseUrl=\"https://api.fastbreakstats.com/teams/\"\n",
    "    params=\"?q=current\"\n",
    "    url=baseUrl+name+params\n",
    "\n",
    "    r = requests.get(url = url).json()[0]\n",
    "    bpival = r['BPIval']\n",
    "    kpval = r['KenPomVal']\n",
    "    srsval = r['SRS']\n",
    "    return kpval, bpival, srsval"
   ]
  },
  {
   "cell_type": "code",
   "execution_count": 6,
   "metadata": {},
   "outputs": [
    {
     "data": {
      "text/plain": [
       "array([[-0.14904683,  0.02408791, -0.00285878,  0.14617775, -0.05714497,\n",
       "         0.03016929]])"
      ]
     },
     "execution_count": 6,
     "metadata": {},
     "output_type": "execute_result"
    }
   ],
   "source": [
    "loaded_model = pickle.load(open('6yr_LR.sav', 'rb'))\n",
    "loaded_model.coef_"
   ]
  },
  {
   "cell_type": "code",
   "execution_count": 7,
   "metadata": {},
   "outputs": [],
   "source": [
    "def get_needed_odds1(conf):\n",
    "    payout = round(((.1+(1-conf))/conf),4)\n",
    "    if 100/payout > 100:\n",
    "        odds = round(-100/payout)\n",
    "    else:\n",
    "        odds = round(100*payout)\n",
    "    return odds"
   ]
  },
  {
   "cell_type": "code",
   "execution_count": 8,
   "metadata": {},
   "outputs": [],
   "source": [
    "def get_ev1(odds,conf):\n",
    "    if int(odds) > 0:\n",
    "        payout = odds/100\n",
    "    else:\n",
    "        payout = -100/odds\n",
    "        \n",
    "    ev = (conf * payout) - (1-conf)\n",
    "    return ev"
   ]
  },
  {
   "cell_type": "code",
   "execution_count": 19,
   "metadata": {
    "scrolled": false
   },
   "outputs": [
    {
     "name": "stdout",
     "output_type": "stream",
     "text": [
      "Wagner Seahawks @ Bryant Bulldogs\n",
      "Wagner Seahawks needs 513.0 and has 525 odds with an Expected Value of 0.12065987536055789\n",
      "\n",
      "UTSA Roadrunners @ Oregon St Beavers\n",
      "UTSA Roadrunners needs 262.0 and has 295 odds with an Expected Value of 0.2014069086278506\n",
      "\n",
      "San Diego Toreros @ Cal Poly Mustangs\n",
      "San Diego Toreros needs -312.0 and has -245 odds with an Expected Value of 0.1734189673909758\n",
      "\n",
      "Pittsburgh Panthers @ Miami Hurricanes\n",
      "Miami Hurricanes needs -351.0 and has 112 odds with an Expected Value of 0.8153901307761028\n",
      "\n",
      "Mercer Bears @ Georgia St Panthers\n",
      "Georgia St Panthers needs -215.0 and has -200 odds with an Expected Value of 0.12558886029829902\n",
      "\n",
      "TCU Horned Frogs @ Oklahoma St Cowboys\n",
      "Oklahoma St Cowboys needs -251.0 and has -220 odds with an Expected Value of 0.14412632631371186\n",
      "\n",
      "Duke Blue Devils @ Notre Dame Fighting Irish\n",
      "Duke Blue Devils needs -222.0 and has -180 odds with an Expected Value of 0.17893064307556084\n",
      "\n"
     ]
    }
   ],
   "source": [
    "for game in sports_json['data']:\n",
    "    #Loop through and get odds\n",
    "    odds = ['n/a','n/a']\n",
    "    for site in game['sites']:\n",
    "        if site['site_key'] == 'bovada':\n",
    "            odds = site['odds']['h2h']\n",
    "            sitex = \"bovada\"\n",
    "            break\n",
    "        if site['site_key'] == 'draftkings':\n",
    "            odds = site['odds']['h2h']\n",
    "            sitex = \"DK\"\n",
    "        if site['site_key'] == 'williamhill_us':\n",
    "            odds = site['odds']['h2h']\n",
    "            sitex = \"WH\"\n",
    "            \n",
    "    if odds == ['n/a','n/a']:\n",
    "#         print(\"There are no odds for {0}\".format(game['teams']))\n",
    "        continue\n",
    "    \n",
    "    home = game['home_team']\n",
    "    if game['home_team'] == game['teams'][0]:\n",
    "        away = game['teams'][1]\n",
    "        home_odds = odds[0]\n",
    "        away_odds = odds[1]\n",
    "    else:\n",
    "        away = game['teams'][0]\n",
    "        home_odds = odds[1]\n",
    "        away_odds = odds[0]\n",
    "    \n",
    "    try:\n",
    "        home = home.replace(\"-\", \" \")\n",
    "        home = home.replace(\"(\", \"\")\n",
    "        home = home.replace(\")\", \"\")\n",
    "        home = home.replace(\".\", \"\")\n",
    "        away = away.replace(\"-\", \" \")\n",
    "        away = away.replace(\"(\", \"\")\n",
    "        away = away.replace(\")\", \"\")\n",
    "        away = away.replace(\".\", \"\")\n",
    "        homekp, homebpi, homesrs = getTeamData(teams.loc[teams['odds_api_name'] == home]['kenpom_name'].values[0])\n",
    "        awaykp, awaybpi, awaysrs = getTeamData(teams.loc[teams['odds_api_name'] == away]['kenpom_name'].values[0])\n",
    "    except Exception as e:\n",
    "        print(e)\n",
    "        print(game['teams'])\n",
    "        pass\n",
    "        \n",
    "    res = loaded_model.predict_proba([[float(awaykp), float(awaybpi), float(awaysrs), float(homekp), float(homebpi), float(homesrs)]])\n",
    "#     print(res[0])\n",
    "#     print(\"{0} & {1} from {2}\".format(away_odds,home_odds,sitex))\n",
    "    away_needed_odds = get_needed_odds1(res[0][0])    \n",
    "    home_needed_odds = get_needed_odds1(res[0][1])\n",
    "    away_ev = get_ev1(away_odds,res[0][0])\n",
    "    home_ev = get_ev1(home_odds,res[0][1])\n",
    "    if away_odds > away_needed_odds:\n",
    "        print(\"{0} @ {1}\".format(away,home))\n",
    "        print(\"{0} needs {1} and has {2} odds with an Expected Value of {3}\".format(away,away_needed_odds,away_odds,away_ev))\n",
    "        print()\n",
    "    if home_odds > home_needed_odds:\n",
    "        print(\"{0} @ {1}\".format(away,home))\n",
    "        print(\"{0} needs {1} and has {2} odds with an Expected Value of {3}\".format(home,home_needed_odds,home_odds,home_ev))\n",
    "        print()"
   ]
  },
  {
   "cell_type": "code",
   "execution_count": null,
   "metadata": {},
   "outputs": [],
   "source": []
  },
  {
   "cell_type": "code",
   "execution_count": null,
   "metadata": {},
   "outputs": [],
   "source": []
  },
  {
   "cell_type": "code",
   "execution_count": null,
   "metadata": {},
   "outputs": [],
   "source": []
  },
  {
   "cell_type": "code",
   "execution_count": null,
   "metadata": {},
   "outputs": [],
   "source": []
  }
 ],
 "metadata": {
  "kernelspec": {
   "display_name": "Python 3",
   "language": "python",
   "name": "python3"
  },
  "language_info": {
   "codemirror_mode": {
    "name": "ipython",
    "version": 3
   },
   "file_extension": ".py",
   "mimetype": "text/x-python",
   "name": "python",
   "nbconvert_exporter": "python",
   "pygments_lexer": "ipython3",
   "version": "3.7.4"
  }
 },
 "nbformat": 4,
 "nbformat_minor": 4
}
