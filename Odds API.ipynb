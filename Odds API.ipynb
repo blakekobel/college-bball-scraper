{
 "cells": [
  {
   "cell_type": "code",
   "execution_count": 51,
   "metadata": {},
   "outputs": [],
   "source": [
    "import json\n",
    "import requests\n",
    "import datetime as dt\n",
    "import pickle\n",
    "import pandas as pd\n",
    "\n",
    "# An api key is emailed to you when you sign up to a plan\n",
    "api_key = 'da3195c8356b3b0ee3e5a6682ed9c537'\n"
   ]
  },
  {
   "cell_type": "code",
   "execution_count": 52,
   "metadata": {},
   "outputs": [],
   "source": [
    "def get_odds_data():\n",
    "    sports_response = requests.get('https://api.the-odds-api.com/v3/odds', params={\n",
    "        'api_key': api_key,\n",
    "        'sport': 'basketball_ncaab',\n",
    "        'region': 'us',\n",
    "        'oddsFormat': 'american'\n",
    "    })\n",
    "\n",
    "\n",
    "    sports_json = json.loads(sports_response.text)\n",
    "    date = dt.datetime.today().date().strftime('%Y-%m-%d')\n",
    "    with open(str(date)+'.json', 'w') as outfile:\n",
    "        json.dump(sports_json, outfile)\n",
    "    "
   ]
  },
  {
   "cell_type": "code",
   "execution_count": 53,
   "metadata": {},
   "outputs": [],
   "source": [
    "get_odds_data()"
   ]
  },
  {
   "cell_type": "code",
   "execution_count": 54,
   "metadata": {},
   "outputs": [],
   "source": [
    "date = dt.datetime.today().date().strftime('%Y-%m-%d')\n",
    "with open(str(date)+'.json') as f:\n",
    "    sports_json = json.load(f)"
   ]
  },
  {
   "cell_type": "code",
   "execution_count": 55,
   "metadata": {},
   "outputs": [],
   "source": [
    "def getTeamData(name):\n",
    "    name = name.replace(\" \", \"%20\")\n",
    "    baseUrl=\"https://api.fastbreakstats.com/teams/\"\n",
    "    params=\"?q=current\"\n",
    "    url=baseUrl+name+params\n",
    "\n",
    "    r = requests.get(url = url).json()[0]\n",
    "    bpival = r['BPIval']\n",
    "    kpval = r['KenPomVal']\n",
    "    srsval = r['SRS']\n",
    "    return kpval, bpival, srsval"
   ]
  },
  {
   "cell_type": "code",
   "execution_count": 56,
   "metadata": {},
   "outputs": [],
   "source": [
    "def get_needed_odds1(conf):\n",
    "    payout = round(((.1+(1-conf))/conf),4)\n",
    "    if 100/payout > 100:\n",
    "        odds = round(-100/payout)\n",
    "    else:\n",
    "        odds = round(100*payout)\n",
    "    return odds"
   ]
  },
  {
   "cell_type": "code",
   "execution_count": 57,
   "metadata": {},
   "outputs": [],
   "source": [
    "def get_ev1(odds,conf):\n",
    "    if int(odds) > 0:\n",
    "        payout = odds/100\n",
    "    else:\n",
    "        payout = -100/odds\n",
    "    ev = (conf * payout) - (1-conf)\n",
    "    return ev"
   ]
  },
  {
   "cell_type": "code",
   "execution_count": 58,
   "metadata": {
    "scrolled": false
   },
   "outputs": [],
   "source": [
    "def print_games():\n",
    "    teams = pd.read_csv('teams_table.csv')\n",
    "    loaded_model = pickle.load(open('6yr_LR.sav', 'rb'))\n",
    "    for game in sports_json['data']:\n",
    "        #Loop through and get odds\n",
    "        odds = ['n/a','n/a']\n",
    "        for site in game['sites']:\n",
    "            if site['site_key'] == 'bovada':\n",
    "                odds = site['odds']['h2h']\n",
    "                sitex = \"bovada\"\n",
    "                break\n",
    "            if site['site_key'] == 'draftkings':\n",
    "                odds = site['odds']['h2h']\n",
    "                sitex = \"DK\"\n",
    "            if site['site_key'] == 'williamhill_us':\n",
    "                odds = site['odds']['h2h']\n",
    "                sitex = \"WH\"\n",
    "            if site['site_key'] == 'fanduel':\n",
    "                odds = site['odds']['h2h']\n",
    "                sitex = \"FD\"\n",
    "\n",
    "        if odds == ['n/a','n/a']:\n",
    "            print(\"There are no odds for {0}\".format(game['teams']))\n",
    "            print()\n",
    "            continue\n",
    "\n",
    "        home = game['home_team']\n",
    "        if game['home_team'] == game['teams'][0]:\n",
    "            away = game['teams'][1]\n",
    "            home_odds = odds[0]\n",
    "            away_odds = odds[1]\n",
    "        else:\n",
    "            away = game['teams'][0]\n",
    "            home_odds = odds[1]\n",
    "            away_odds = odds[0]\n",
    "\n",
    "        try:\n",
    "            home = home.replace(\"-\", \" \")\n",
    "            home = home.replace(\"(\", \"\")\n",
    "            home = home.replace(\")\", \"\")\n",
    "            home = home.replace(\".\", \"\")\n",
    "            away = away.replace(\"-\", \" \")\n",
    "            away = away.replace(\"(\", \"\")\n",
    "            away = away.replace(\")\", \"\")\n",
    "            away = away.replace(\".\", \"\")\n",
    "            homekp, homebpi, homesrs = getTeamData(teams.loc[teams['odds_api_name'] == home]['kenpom_name'].values[0])\n",
    "            awaykp, awaybpi, awaysrs = getTeamData(teams.loc[teams['odds_api_name'] == away]['kenpom_name'].values[0])\n",
    "        except Exception as e:\n",
    "            print(e)\n",
    "            print(game['teams'])\n",
    "            print()\n",
    "            continue\n",
    "\n",
    "        res = loaded_model.predict_proba([[float(awaykp), float(awaybpi), float(awaysrs), float(homekp), float(homebpi), float(homesrs)]])\n",
    "    #     print(res[0])\n",
    "        print(\"{0} @ {1}\".format(away,home))\n",
    "        away_needed_odds = get_needed_odds1(res[0][0])    \n",
    "        home_needed_odds = get_needed_odds1(res[0][1])\n",
    "        away_ev = get_ev1(away_odds,res[0][0])\n",
    "        home_ev = get_ev1(home_odds,res[0][1])\n",
    "        if away_odds > away_needed_odds:\n",
    "            print(\"{0} @ {1} on {2}\".format(away,home,sitex))\n",
    "            print(\"{0} needs {1} and has {2} odds with an Expected Value of {3}\".format(away,away_needed_odds,away_odds,away_ev))\n",
    "#             print()\n",
    "        if home_odds > home_needed_odds:\n",
    "            print(\"{0} @ {1} on {2}\".format(away,home,sitex))\n",
    "            print(\"{0} needs {1} and has {2} odds with an Expected Value of {3}\".format(home,home_needed_odds,home_odds,home_ev))\n",
    "        print()"
   ]
  },
  {
   "cell_type": "code",
   "execution_count": 59,
   "metadata": {
    "scrolled": false
   },
   "outputs": [
    {
     "name": "stdout",
     "output_type": "stream",
     "text": [
      "Delaware St Hornets @ UNC Wilmington Seahawks\n",
      "\n",
      "There are no odds for ['NJIT Highlanders', 'Rider Broncs']\n",
      "\n",
      "Saint Peter's Peacocks @ St Francis BKN Terriers\n",
      "\n",
      "Xavier Musketeers @ Creighton Bluejays\n",
      "\n",
      "UCLA Bruins @ Oregon Ducks\n",
      "UCLA Bruins @ Oregon Ducks on DK\n",
      "Oregon Ducks needs -186.0 and has -143 odds with an Expected Value of 0.21512311606007084\n",
      "\n",
      "Towson Tigers @ George Mason Patriots\n",
      "Towson Tigers @ George Mason Patriots on bovada\n",
      "George Mason Patriots needs -324.0 and has -210 odds with an Expected Value of 0.24087092833030116\n",
      "\n",
      "SE Louisiana Lions @ Grambling St Tigers\n",
      "\n",
      "Idaho State Bengals @ N Colorado Bears\n",
      "\n",
      "Rutgers Scarlet Knights @ Ohio State Buckeyes\n",
      "\n",
      "Georgetown Hoyas @ Seton Hall Pirates\n",
      "\n",
      "South Carolina Upstate Spartans @ Tennessee Volunteers\n",
      "\n",
      "Northwestern St Demons @ Washington St Cougars\n",
      "\n",
      "Providence Friars @ Butler Bulldogs\n",
      "\n",
      "CSU Bakersfield Roadrunners @ Pepperdine Waves\n",
      "CSU Bakersfield Roadrunners @ Pepperdine Waves on bovada\n",
      "Pepperdine Waves needs -330.0 and has -300 odds with an Expected Value of 0.12566773405384551\n",
      "\n",
      "Illinois Fighting Illini @ Penn State Nittany Lions\n",
      "Illinois Fighting Illini @ Penn State Nittany Lions on bovada\n",
      "Penn State Nittany Lions needs 120.0 and has 160 odds with an Expected Value of 0.29807396234427574\n",
      "\n",
      "Villanova Wildcats @ Marquette Golden Eagles\n",
      "\n",
      "Coppin St Eagles @ Iona Gaels\n",
      "\n",
      "Weber State Wildcats @ BYU Cougars\n",
      "\n",
      "UMKC Kangaroos @ Saint Louis Billikens\n",
      "\n",
      "Northwestern Wildcats @ Indiana Hoosiers\n",
      "\n",
      "Western Illinois Leathernecks @ DePaul Blue Demons\n",
      "\n",
      "San José St Spartans @ Utah State Aggies\n",
      "\n",
      "New Mexico Lobos @ Boise State Broncos\n",
      "\n"
     ]
    }
   ],
   "source": [
    "print_games()"
   ]
  },
  {
   "cell_type": "code",
   "execution_count": null,
   "metadata": {},
   "outputs": [],
   "source": []
  },
  {
   "cell_type": "code",
   "execution_count": null,
   "metadata": {},
   "outputs": [],
   "source": []
  },
  {
   "cell_type": "code",
   "execution_count": 42,
   "metadata": {},
   "outputs": [
    {
     "data": {
      "text/plain": [
       "{'sport_key': 'basketball_ncaab',\n",
       " 'sport_nice': 'NCAAB',\n",
       " 'teams': ['Delaware St Hornets', 'UNC Wilmington Seahawks'],\n",
       " 'commence_time': 1608742800,\n",
       " 'home_team': 'UNC Wilmington Seahawks',\n",
       " 'sites': [{'site_key': 'fanduel',\n",
       "   'site_nice': 'FanDuel',\n",
       "   'last_update': 1608733229,\n",
       "   'odds': {'h2h': [1600, -4500]}},\n",
       "  {'site_key': 'bovada',\n",
       "   'site_nice': 'Bovada',\n",
       "   'last_update': 1608733252,\n",
       "   'odds': {'h2h': [1175, -3448]}},\n",
       "  {'site_key': 'betrivers',\n",
       "   'site_nice': 'BetRivers',\n",
       "   'last_update': 1608733259,\n",
       "   'odds': {'h2h': [1600, -10000]}},\n",
       "  {'site_key': 'sugarhouse',\n",
       "   'site_nice': 'SugarHouse',\n",
       "   'last_update': 1608733230,\n",
       "   'odds': {'h2h': [1600, -10000]}},\n",
       "  {'site_key': 'draftkings',\n",
       "   'site_nice': 'DraftKings',\n",
       "   'last_update': 1608733229,\n",
       "   'odds': {'h2h': [1600, -10000]}},\n",
       "  {'site_key': 'betmgm',\n",
       "   'site_nice': 'BetMGM',\n",
       "   'last_update': 1608733259,\n",
       "   'odds': {'h2h': [1850, -10000]}}],\n",
       " 'sites_count': 6}"
      ]
     },
     "execution_count": 42,
     "metadata": {},
     "output_type": "execute_result"
    }
   ],
   "source": [
    "sports_json['data'][0]"
   ]
  },
  {
   "cell_type": "code",
   "execution_count": 44,
   "metadata": {},
   "outputs": [
    {
     "data": {
      "text/plain": [
       "datetime.date(2020, 12, 23)"
      ]
     },
     "execution_count": 44,
     "metadata": {},
     "output_type": "execute_result"
    }
   ],
   "source": [
    "dt.datetime.today().date()"
   ]
  },
  {
   "cell_type": "code",
   "execution_count": 45,
   "metadata": {},
   "outputs": [
    {
     "data": {
      "text/plain": [
       "False"
      ]
     },
     "execution_count": 45,
     "metadata": {},
     "output_type": "execute_result"
    }
   ],
   "source": [
    "dt.datetime.fromtimestamp(1608667200).date() == dt.datetime.now().date()"
   ]
  },
  {
   "cell_type": "code",
   "execution_count": 46,
   "metadata": {},
   "outputs": [],
   "source": [
    "def get_bet_games():\n",
    "    teams = pd.read_csv('teams_table.csv')\n",
    "    loaded_model = pickle.load(open('6yr_LR.sav', 'rb'))\n",
    "    games_to_bet = []\n",
    "    for game in sports_json['data']:\n",
    "        #Loop through and get odds\n",
    "        odds = ['n/a','n/a']\n",
    "        if game['commence_time'] < dt.datetime.now().timestamp():\n",
    "            continue\n",
    "        if dt.datetime.fromtimestamp(game['commence_time']).date() > dt.datetime.now().date():\n",
    "            continue\n",
    "        for site in game['sites']:\n",
    "            if site['site_key'] == 'bovada':\n",
    "                odds = site['odds']['h2h']\n",
    "                sitex = \"bovada\"\n",
    "                break\n",
    "            if site['site_key'] == 'draftkings':\n",
    "                odds = site['odds']['h2h']\n",
    "                sitex = \"DK\"\n",
    "            if site['site_key'] == 'williamhill_us':\n",
    "                odds = site['odds']['h2h']\n",
    "                sitex = \"WH\"\n",
    "            if site['site_key'] == 'fanduel':\n",
    "                odds = site['odds']['h2h']\n",
    "                sitex = \"FD\"\n",
    "\n",
    "        if odds == ['n/a','n/a']:\n",
    "    #         print(\"There are no odds for {0}\".format(game['teams']))\n",
    "            continue\n",
    "\n",
    "        home = game['home_team']\n",
    "        if game['home_team'] == game['teams'][0]:\n",
    "            away = game['teams'][1]\n",
    "            home_odds = odds[0]\n",
    "            away_odds = odds[1]\n",
    "        else:\n",
    "            away = game['teams'][0]\n",
    "            home_odds = odds[1]\n",
    "            away_odds = odds[0]\n",
    "\n",
    "        try:\n",
    "            home = home.replace(\"-\", \" \")\n",
    "            home = home.replace(\"(\", \"\")\n",
    "            home = home.replace(\")\", \"\")\n",
    "            home = home.replace(\".\", \"\")\n",
    "            away = away.replace(\"-\", \" \")\n",
    "            away = away.replace(\"(\", \"\")\n",
    "            away = away.replace(\")\", \"\")\n",
    "            away = away.replace(\".\", \"\")\n",
    "            homekp, homebpi, homesrs = getTeamData(teams.loc[teams['odds_api_name'] == home]['kenpom_name'].values[0])\n",
    "            awaykp, awaybpi, awaysrs = getTeamData(teams.loc[teams['odds_api_name'] == away]['kenpom_name'].values[0])\n",
    "        except Exception as e:\n",
    "            print(e)\n",
    "            print(game['teams'])\n",
    "            pass\n",
    "\n",
    "        res = loaded_model.predict_proba([[float(awaykp), float(awaybpi), float(awaysrs), float(homekp), float(homebpi), float(homesrs)]])\n",
    "        away_needed_odds = get_needed_odds1(res[0][0])    \n",
    "        home_needed_odds = get_needed_odds1(res[0][1])\n",
    "        away_ev = get_ev1(away_odds,res[0][0])\n",
    "        home_ev = get_ev1(home_odds,res[0][1])\n",
    "        if away_odds > away_needed_odds:\n",
    "            game_to_bet = {}\n",
    "            game_to_bet['game'] = \"{0} @ {1}\".format(away,home)\n",
    "            game_to_bet['starttime'] = dt.datetime.fromtimestamp(game['commence_time']).strftime('%Y-%m-%d %H:%M:%S CST')\n",
    "            game_to_bet['betsite'] = sitex\n",
    "            game_to_bet['team'] = away\n",
    "            game_to_bet['odds_found'] = away_odds\n",
    "            game_to_bet['odds_needed'] = away_needed_odds\n",
    "            game_to_bet['ev'] = away_ev\n",
    "            games_to_bet.append(game_to_bet)\n",
    "        if home_odds > home_needed_odds:\n",
    "            game_to_bet = {}\n",
    "            game_to_bet['game'] = \"{0} @ {1}\".format(away,home)\n",
    "            game_to_bet['starttime'] = dt.datetime.fromtimestamp(game['commence_time']).strftime('%Y-%m-%d %H:%M:%S CST')\n",
    "            game_to_bet['betsite'] = sitex\n",
    "            game_to_bet['team'] = home\n",
    "            game_to_bet['odds_found'] = home_odds\n",
    "            game_to_bet['odds_needed'] = home_needed_odds\n",
    "            game_to_bet['ev'] = home_ev\n",
    "            games_to_bet.append(game_to_bet)\n",
    "    return games_to_bet"
   ]
  },
  {
   "cell_type": "code",
   "execution_count": 47,
   "metadata": {},
   "outputs": [
    {
     "name": "stdout",
     "output_type": "stream",
     "text": [
      "index 0 is out of bounds for axis 0 with size 0\n",
      "['Illinois Fighting Illini', 'Penn State Nittany Lions']\n"
     ]
    }
   ],
   "source": [
    "today = get_bet_games()"
   ]
  },
  {
   "cell_type": "code",
   "execution_count": 48,
   "metadata": {},
   "outputs": [
    {
     "name": "stdout",
     "output_type": "stream",
     "text": [
      "[{'game': 'NJIT Highlanders @ Rider Broncs', 'starttime': '2020-12-23 13:00:00 CST', 'betsite': 'bovada', 'team': 'NJIT Highlanders', 'odds_found': 100, 'odds_needed': -149.0, 'ev': 0.3168210806435736}, {'game': 'UCLA Bruins @ Oregon Ducks', 'starttime': '2020-12-23 14:00:00 CST', 'betsite': 'DK', 'team': 'Oregon Ducks', 'odds_found': -143, 'odds_needed': -186.0, 'ev': 0.21512311606007084}, {'game': 'Towson Tigers @ George Mason Patriots', 'starttime': '2020-12-23 15:00:00 CST', 'betsite': 'bovada', 'team': 'George Mason Patriots', 'odds_found': -210, 'odds_needed': -324.0, 'ev': 0.24087092833030116}, {'game': 'Illinois Fighting Illini @ Penn State Nittany Lions', 'starttime': '2020-12-23 17:30:00 CST', 'betsite': 'bovada', 'team': 'Penn State Nittany Lions', 'odds_found': 160, 'odds_needed': -330.0, 'ev': 1.195052081404999}, {'game': 'Georgia Tech Yellow Jackets @ UAB Blazers', 'starttime': '2020-12-23 19:00:00 CST', 'betsite': 'FD', 'team': 'UAB Blazers', 'odds_found': 102, 'odds_needed': -112.0, 'ev': 0.17542882432395668}]\n"
     ]
    }
   ],
   "source": [
    "print(today)"
   ]
  },
  {
   "cell_type": "code",
   "execution_count": null,
   "metadata": {},
   "outputs": [],
   "source": []
  }
 ],
 "metadata": {
  "kernelspec": {
   "display_name": "Python 3",
   "language": "python",
   "name": "python3"
  },
  "language_info": {
   "codemirror_mode": {
    "name": "ipython",
    "version": 3
   },
   "file_extension": ".py",
   "mimetype": "text/x-python",
   "name": "python",
   "nbconvert_exporter": "python",
   "pygments_lexer": "ipython3",
   "version": "3.7.4"
  }
 },
 "nbformat": 4,
 "nbformat_minor": 4
}
