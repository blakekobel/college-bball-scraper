{
 "cells": [
  {
   "cell_type": "code",
   "execution_count": 12,
   "metadata": {},
   "outputs": [],
   "source": [
    "import json\n",
    "import requests\n",
    "import datetime as dt\n",
    "import pickle\n",
    "import pandas as pd\n",
    "\n",
    "# An api key is emailed to you when you sign up to a plan\n",
    "api_key = 'da3195c8356b3b0ee3e5a6682ed9c537'\n"
   ]
  },
  {
   "cell_type": "code",
   "execution_count": 13,
   "metadata": {},
   "outputs": [
    {
     "name": "stdout",
     "output_type": "stream",
     "text": [
      "2021-01-05 09:18:19.204104\n",
      "2021-01-05 15:18:19.204104+00:00\n"
     ]
    }
   ],
   "source": [
    "from datetime import datetime, timezone\n",
    "print(datetime.now())              # timezone\n",
    "print(datetime.now(timezone.utc))  # coordinated universal time "
   ]
  },
  {
   "cell_type": "code",
   "execution_count": 14,
   "metadata": {},
   "outputs": [],
   "source": [
    "def get_odds_data():\n",
    "    sports_response = requests.get('https://api.the-odds-api.com/v3/odds', params={\n",
    "        'api_key': api_key,\n",
    "        'sport': 'basketball_ncaab',\n",
    "        'region': 'us',\n",
    "        'oddsFormat': 'american'\n",
    "    })\n",
    "\n",
    "\n",
    "    sports_json = json.loads(sports_response.text)\n",
    "    date = dt.datetime.today().date().strftime('%Y-%m-%d')\n",
    "    with open(str(date)+'.json', 'w') as outfile:\n",
    "        json.dump(sports_json, outfile)\n",
    "    "
   ]
  },
  {
   "cell_type": "code",
   "execution_count": 15,
   "metadata": {},
   "outputs": [
    {
     "name": "stdout",
     "output_type": "stream",
     "text": [
      "https://api.the-odds-api.com/v3/odds/?apiKey=da3195c8356b3b0ee3e5a6682ed9c537&sport=basketball_ncaab&region=us&mkt=h2h&oddsFormat=american\n"
     ]
    }
   ],
   "source": [
    "print(\"https://api.the-odds-api.com/v3/odds/?apiKey=da3195c8356b3b0ee3e5a6682ed9c537&sport=basketball_ncaab&region=us&mkt=h2h&oddsFormat=american\")"
   ]
  },
  {
   "cell_type": "code",
   "execution_count": 16,
   "metadata": {},
   "outputs": [],
   "source": [
    "get_odds_data()"
   ]
  },
  {
   "cell_type": "code",
   "execution_count": 17,
   "metadata": {},
   "outputs": [],
   "source": [
    "date = dt.datetime.today().date().strftime('%Y-%m-%d')\n",
    "with open(str(date)+'.json') as f:\n",
    "    sports_json = json.load(f)"
   ]
  },
  {
   "cell_type": "code",
   "execution_count": 18,
   "metadata": {},
   "outputs": [],
   "source": [
    "def getTeamData(name):\n",
    "    name = name.replace(\" \", \"%20\")\n",
    "    baseUrl=\"https://api.fastbreakstats.com/teams/\"\n",
    "    params=\"?q=current\"\n",
    "    url=baseUrl+name+params\n",
    "\n",
    "    r = requests.get(url = url).json()[0]\n",
    "    bpival = r['BPIval']\n",
    "    kpval = r['KenPomVal']\n",
    "    srsval = r['SRS']\n",
    "    return kpval, bpival, srsval"
   ]
  },
  {
   "cell_type": "code",
   "execution_count": 19,
   "metadata": {},
   "outputs": [],
   "source": [
    "def get_needed_odds(conf):\n",
    "    #This function calculates the odds needed for a bet to have an expected value of .1\n",
    "    #An EV of .1 means a $.10 expected return on $1 over time\n",
    "    #The normal formula is EV = (payout * confidence) - (bet * (1-conf))\n",
    "    #payout is the expected profit on a bet.\n",
    "    #confidence is models % chance of winning. 1-conf is for the other team\n",
    "    #The bet is always going to be $1 for simple math which removes the need for the bet variable\n",
    "    #below equation is rearranged to isolate and solve for the payout\n",
    "    payout = round(((.1+(1-conf))/conf),4) \n",
    "    #convert payout to american odds\n",
    "    if 100/payout > 100:\n",
    "        odds = round(-100/payout)\n",
    "    else:\n",
    "        odds = round(100*payout)\n",
    "    return odds"
   ]
  },
  {
   "cell_type": "code",
   "execution_count": 20,
   "metadata": {},
   "outputs": [],
   "source": [
    "def get_ev(odds,conf):\n",
    "    #This calculates the Expected Return on a $1 bet with the actual given bookie odds we pass in\n",
    "    #EV of .1 means a 10 cent return on a $1 bet over time\n",
    "    if int(odds) > 0:\n",
    "        payout = odds/100\n",
    "    else:\n",
    "        payout = -100/odds\n",
    "    ev = (conf * payout) - (1-conf)\n",
    "    return ev"
   ]
  },
  {
   "cell_type": "code",
   "execution_count": 21,
   "metadata": {},
   "outputs": [],
   "source": [
    "def get_kelly_bet(odds,conf):\n",
    "    if int(odds) > 0:\n",
    "        dec = 1+(odds/100)\n",
    "    else:\n",
    "        dec = 1-(100/odds)\n",
    "    kb = ((dec*conf) - (1-conf))/dec\n",
    "    return kb"
   ]
  },
  {
   "cell_type": "code",
   "execution_count": 22,
   "metadata": {
    "scrolled": false
   },
   "outputs": [],
   "source": [
    "def print_games():\n",
    "    teams = pd.read_csv('teams_table.csv')\n",
    "    loaded_model = pickle.load(open('6yr_LR.sav', 'rb'))\n",
    "    for game in sports_json['data']:\n",
    "        #Loop through and get odds\n",
    "        odds = ['n/a','n/a']\n",
    "        for site in game['sites']:\n",
    "            if site['site_key'] == 'bovada':\n",
    "                odds = site['odds']['h2h']\n",
    "                sitex = \"bovada\"\n",
    "                break\n",
    "            if site['site_key'] == 'draftkings':\n",
    "                odds = site['odds']['h2h']\n",
    "                sitex = \"DK\"\n",
    "            if site['site_key'] == 'williamhill_us':\n",
    "                odds = site['odds']['h2h']\n",
    "                sitex = \"WH\"\n",
    "            if site['site_key'] == 'fanduel':\n",
    "                odds = site['odds']['h2h']\n",
    "                sitex = \"FD\"\n",
    "\n",
    "        if odds == ['n/a','n/a']:\n",
    "            print(\"There are no odds for {0}\".format(game['teams']))\n",
    "            print()\n",
    "            continue\n",
    "\n",
    "        home = game['home_team']\n",
    "        if game['home_team'] == game['teams'][0]:\n",
    "            away = game['teams'][1]\n",
    "            home_odds = odds[0]\n",
    "            away_odds = odds[1]\n",
    "        else:\n",
    "            away = game['teams'][0]\n",
    "            home_odds = odds[1]\n",
    "            away_odds = odds[0]\n",
    "\n",
    "        try:\n",
    "            home = home.replace(\"-\", \" \")\n",
    "            home = home.replace(\"(\", \"\")\n",
    "            home = home.replace(\")\", \"\")\n",
    "            home = home.replace(\".\", \"\")\n",
    "            away = away.replace(\"-\", \" \")\n",
    "            away = away.replace(\"(\", \"\")\n",
    "            away = away.replace(\")\", \"\")\n",
    "            away = away.replace(\".\", \"\")\n",
    "            homekp, homebpi, homesrs = getTeamData(teams.loc[teams['odds_api_name'] == home]['kenpom_name'].values[0])\n",
    "            awaykp, awaybpi, awaysrs = getTeamData(teams.loc[teams['odds_api_name'] == away]['kenpom_name'].values[0])\n",
    "        except Exception as e:\n",
    "            print(e)\n",
    "            print(game['teams'])\n",
    "            print()\n",
    "            continue\n",
    "\n",
    "        res = loaded_model.predict_proba([[float(awaykp), float(awaybpi), float(awaysrs), float(homekp), float(homebpi), float(homesrs)]])\n",
    "    #     print(res[0])\n",
    "#         print(\"{0} @ {1}\".format(away,home))\n",
    "        away_needed_odds = get_needed_odds(res[0][0])    \n",
    "        home_needed_odds = get_needed_odds(res[0][1])\n",
    "        away_ev = get_ev(away_odds,res[0][0])\n",
    "        home_ev = get_ev(home_odds,res[0][1])\n",
    "        away_kb = get_kelly_bet(away_odds,res[0][0])\n",
    "        home_kb = get_kelly_bet(home_odds,res[0][1])\n",
    "        if away_odds > away_needed_odds:\n",
    "            print(\"{0} @ {1} on {2}\".format(away,home,sitex))\n",
    "            print(\"{0} needs {1} and has {2} odds with an Expected Value of {3}. Kelly Bet {4}\".format(away,away_needed_odds,away_odds,away_ev,away_kb))\n",
    "            print()\n",
    "        if home_odds > home_needed_odds:\n",
    "            print(\"{0} @ {1} on {2}\".format(away,home,sitex))\n",
    "            print(\"{0} needs {1} and has {2} odds with an Expected Value of {3}. Kelly Bet {4}\".format(home,home_needed_odds,home_odds,home_ev,home_kb))\n",
    "            print()"
   ]
  },
  {
   "cell_type": "code",
   "execution_count": 23,
   "metadata": {
    "scrolled": false
   },
   "outputs": [
    {
     "name": "stderr",
     "output_type": "stream",
     "text": [
      "c:\\users\\blake\\appdata\\local\\programs\\python\\python36\\lib\\site-packages\\sklearn\\base.py:318: UserWarning: Trying to unpickle estimator LogisticRegression from version 0.22.1 when using version 0.22.2.post1. This might lead to breaking code or invalid results. Use at your own risk.\n",
      "  UserWarning)\n"
     ]
    },
    {
     "name": "stdout",
     "output_type": "stream",
     "text": [
      "Toledo Rockets @ Kent State Golden Flashes on bovada\n",
      "Toledo Rockets needs 104.0 and has 120 odds with an Expected Value of 0.18549422571958984. Kelly Bet 0.32925238064105117\n",
      "\n",
      "Campbell Fighting Camels @ Gardner Webb Bulldogs on bovada\n",
      "Gardner Webb Bulldogs needs -239.0 and has -180 odds with an Expected Value of 0.2058883759466097. Kelly Bet 0.6307086419436133\n",
      "\n",
      "Dayton Flyers @ Fordham Rams on bovada\n",
      "Fordham Rams needs 490.0 and has 500 odds with an Expected Value of 0.11922964486325927. Kelly Bet 0.0509613198345226\n",
      "\n",
      "Hampton Pirates @ Radford Highlanders on bovada\n",
      "Radford Highlanders needs -268.0 and has -200 odds with an Expected Value of 0.20139171293740576. Kelly Bet 0.6682130143748952\n",
      "\n",
      "Longwood Lancers @ South Carolina Upstate Spartans on bovada\n",
      "South Carolina Upstate Spartans needs -189.0 and has -140 odds with an Expected Value of 0.23395865422920148. Kelly Bet 0.5563645903644708\n",
      "\n",
      "NC State Wolfpack @ Clemson Tigers on DK\n",
      "Clemson Tigers needs -243.0 and has -220 odds with an Expected Value of 0.13299785784210483. Kelly Bet 0.6269545460121295\n",
      "\n",
      "North Carolina Tar Heels @ Miami Hurricanes on DK\n",
      "North Carolina Tar Heels needs -146.0 and has -143 odds with an Expected Value of 0.1082776582167273. Kelly Bet 0.4475217222687415\n",
      "\n",
      "There are no odds for ['Michigan St Spartans', 'Rutgers Scarlet Knights']\n",
      "\n",
      "Memphis Tigers @ UCF Knights on bovada\n",
      "UCF Knights needs -100.0 and has 100 odds with an Expected Value of 0.1023746226789568. Kelly Bet 0.3267809670092176\n",
      "\n",
      "UConn Huskies @ Marquette Golden Eagles on bovada\n",
      "Marquette Golden Eagles needs -133.0 and has 100 odds with an Expected Value of 0.25756504767269583. Kelly Bet 0.4431737857545219\n",
      "\n"
     ]
    }
   ],
   "source": [
    "print_games()"
   ]
  },
  {
   "cell_type": "code",
   "execution_count": null,
   "metadata": {},
   "outputs": [],
   "source": []
  },
  {
   "cell_type": "code",
   "execution_count": null,
   "metadata": {},
   "outputs": [],
   "source": []
  },
  {
   "cell_type": "code",
   "execution_count": null,
   "metadata": {},
   "outputs": [],
   "source": []
  }
 ],
 "metadata": {
  "kernelspec": {
   "display_name": "Python 3",
   "language": "python",
   "name": "python3"
  },
  "language_info": {
   "codemirror_mode": {
    "name": "ipython",
    "version": 3
   },
   "file_extension": ".py",
   "mimetype": "text/x-python",
   "name": "python",
   "nbconvert_exporter": "python",
   "pygments_lexer": "ipython3",
   "version": "3.6.8"
  }
 },
 "nbformat": 4,
 "nbformat_minor": 4
}
