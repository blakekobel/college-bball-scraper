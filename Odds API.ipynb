{
 "cells": [
  {
   "cell_type": "code",
   "execution_count": 20,
   "metadata": {},
   "outputs": [],
   "source": [
    "import json\n",
    "import requests\n",
    "import datetime as dt\n",
    "import pickle\n",
    "\n",
    "# An api key is emailed to you when you sign up to a plan\n",
    "api_key = 'da3195c8356b3b0ee3e5a6682ed9c537'\n"
   ]
  },
  {
   "cell_type": "code",
   "execution_count": 26,
   "metadata": {},
   "outputs": [],
   "source": [
    "sports_response = requests.get('https://api.the-odds-api.com/v3/odds', params={\n",
    "    'api_key': api_key,\n",
    "    'sport': 'basketball_ncaab',\n",
    "    'region': 'us'\n",
    "})\n",
    "\n",
    "\n",
    "# fbs_response = requests.get('https://api.fastbreakstats.com/teams')\n",
    "# fbs_data = json.loads(fbs_response.text)\n",
    "\n",
    "sports_json = json.loads(sports_response.text)\n",
    "# with open('odds.json') as f:\n",
    "#     sports_json = json.load(f)"
   ]
  },
  {
   "cell_type": "code",
   "execution_count": 18,
   "metadata": {},
   "outputs": [],
   "source": [
    "def getTeamData(name):\n",
    "    name = \" \".join(name.split()[:-1])\n",
    "    name = name.replace('-',' ')\n",
    "    name = name.replace(' ','%20')\n",
    "    try:\n",
    "        baseUrl=\"https://api.fastbreakstats.com/teams/\"\n",
    "        params=\"?q=current\"\n",
    "        url=baseUrl+name+params\n",
    "#         print(url)\n",
    "    \n",
    "        r = requests.get(url = url).json()[0]\n",
    "        print(r)\n",
    "    except IndexError:\n",
    "        try:\n",
    "            name = name.replace('%20',' ')\n",
    "            name = \" \".join(name.split()[:-1])\n",
    "            name = name.replace('-',' ')\n",
    "            name = name.replace(' ','%20')\n",
    "            baseUrl=\"https://api.fastbreakstats.com/teams/\"\n",
    "            params=\"?q=current\"\n",
    "            url=baseUrl+name+params\n",
    "\n",
    "            r = requests.get(url = url).json()[0]\n",
    "            print(r)\n",
    "        except IndexError:\n",
    "            print(\"Team error: \" + name)"
   ]
  },
  {
   "cell_type": "code",
   "execution_count": 19,
   "metadata": {},
   "outputs": [
    {
     "name": "stdout",
     "output_type": "stream",
     "text": [
      "{'BPIrank': '16', 'BPIval': '9.8', 'KenPomRank': 18, 'KenPomVal': '20.43', 'Opp_Three_Par': '0.444', 'Opp_Tov': '23.3', 'Opp_True_Shoot': '0.461', 'Pace': '74.6', 'SRS': '23.08', 'Team': ['Florida', 'Florida', 'Florida'], 'Three_Par': '0.316', 'Tov': '16.7', 'True_Shoot': '0.6', 'd_eff': '77.53', 'o_eff': '109.48', 'papg': '59.7', 'ppg': '84', 'record_time': 'Sat, 12 Dec 2020 07:00:00 GMT'}\n",
      "{'BPIrank': '16', 'BPIval': '9.8', 'KenPomRank': 18, 'KenPomVal': '20.43', 'Opp_Three_Par': '0.444', 'Opp_Tov': '23.3', 'Opp_True_Shoot': '0.461', 'Pace': '74.6', 'SRS': '23.08', 'Team': ['Florida', 'Florida', 'Florida'], 'Three_Par': '0.316', 'Tov': '16.7', 'True_Shoot': '0.6', 'd_eff': '77.53', 'o_eff': '109.48', 'papg': '59.7', 'ppg': '84', 'record_time': 'Sat, 12 Dec 2020 07:00:00 GMT'}\n",
      "{'BPIrank': '60', 'BPIval': '6.1', 'KenPomRank': 32, 'KenPomVal': '17.84', 'Opp_Three_Par': '0.361', 'Opp_Tov': '14.5', 'Opp_True_Shoot': '0.477', 'Pace': '71.7', 'SRS': '10.55', 'Team': ['Kentucky', 'Kentucky', 'Kentucky'], 'Three_Par': '0.287', 'Tov': '21.5', 'True_Shoot': '0.504', 'd_eff': '82.78', 'o_eff': '98.4', 'papg': '66.3', 'ppg': '67.3', 'record_time': 'Sat, 12 Dec 2020 07:00:00 GMT'}\n",
      "{'BPIrank': '61', 'BPIval': '6', 'KenPomRank': 80, 'KenPomVal': '9.78', 'Opp_Three_Par': '0.36', 'Opp_Tov': '10.6', 'Opp_True_Shoot': '0.529', 'Pace': '71.3', 'SRS': '8.06', 'Team': ['Notre Dame', 'Notre Dame', 'Notre Dame'], 'Three_Par': '0.37', 'Tov': '12.9', 'True_Shoot': '0.557', 'd_eff': '103.72', 'o_eff': '117.31', 'papg': '80', 'ppg': '77.7', 'record_time': 'Sat, 12 Dec 2020 07:00:00 GMT'}\n",
      "{'BPIrank': '127', 'BPIval': '1.6', 'KenPomRank': 106, 'KenPomVal': '6.29', 'Opp_Three_Par': '0.378', 'Opp_Tov': '15.4', 'Opp_True_Shoot': '0.511', 'Pace': '68.6', 'SRS': '1.53', 'Team': ['Toledo', 'Toledo', 'Toledo'], 'Three_Par': '0.439', 'Tov': '14.6', 'True_Shoot': '0.533', 'd_eff': '100.36', 'o_eff': '104.49', 'papg': '69.3', 'ppg': '74', 'record_time': 'Sat, 12 Dec 2020 07:00:00 GMT'}\n"
     ]
    },
    {
     "ename": "KeyboardInterrupt",
     "evalue": "",
     "output_type": "error",
     "traceback": [
      "\u001b[1;31m---------------------------------------------------------------------------\u001b[0m",
      "\u001b[1;31mKeyboardInterrupt\u001b[0m                         Traceback (most recent call last)",
      "\u001b[1;32m<ipython-input-19-e19a55a5497f>\u001b[0m in \u001b[0;36m<module>\u001b[1;34m\u001b[0m\n\u001b[0;32m      5\u001b[0m \u001b[1;32mfor\u001b[0m \u001b[0mgame\u001b[0m \u001b[1;32min\u001b[0m \u001b[0msports_json\u001b[0m\u001b[1;33m[\u001b[0m\u001b[1;34m'data'\u001b[0m\u001b[1;33m]\u001b[0m\u001b[1;33m:\u001b[0m\u001b[1;33m\u001b[0m\u001b[1;33m\u001b[0m\u001b[0m\n\u001b[0;32m      6\u001b[0m     \u001b[1;32mfor\u001b[0m \u001b[0mteam\u001b[0m \u001b[1;32min\u001b[0m \u001b[0mgame\u001b[0m\u001b[1;33m[\u001b[0m\u001b[1;34m'teams'\u001b[0m\u001b[1;33m]\u001b[0m\u001b[1;33m:\u001b[0m\u001b[1;33m\u001b[0m\u001b[1;33m\u001b[0m\u001b[0m\n\u001b[1;32m----> 7\u001b[1;33m         \u001b[0mgetTeamData\u001b[0m\u001b[1;33m(\u001b[0m\u001b[0mteam\u001b[0m\u001b[1;33m)\u001b[0m\u001b[1;33m\u001b[0m\u001b[1;33m\u001b[0m\u001b[0m\n\u001b[0m",
      "\u001b[1;32m<ipython-input-18-dba23173d10e>\u001b[0m in \u001b[0;36mgetTeamData\u001b[1;34m(name)\u001b[0m\n\u001b[0;32m      9\u001b[0m \u001b[1;31m#         print(url)\u001b[0m\u001b[1;33m\u001b[0m\u001b[1;33m\u001b[0m\u001b[1;33m\u001b[0m\u001b[0m\n\u001b[0;32m     10\u001b[0m \u001b[1;33m\u001b[0m\u001b[0m\n\u001b[1;32m---> 11\u001b[1;33m         \u001b[0mr\u001b[0m \u001b[1;33m=\u001b[0m \u001b[0mrequests\u001b[0m\u001b[1;33m.\u001b[0m\u001b[0mget\u001b[0m\u001b[1;33m(\u001b[0m\u001b[0murl\u001b[0m \u001b[1;33m=\u001b[0m \u001b[0murl\u001b[0m\u001b[1;33m)\u001b[0m\u001b[1;33m.\u001b[0m\u001b[0mjson\u001b[0m\u001b[1;33m(\u001b[0m\u001b[1;33m)\u001b[0m\u001b[1;33m[\u001b[0m\u001b[1;36m0\u001b[0m\u001b[1;33m]\u001b[0m\u001b[1;33m\u001b[0m\u001b[1;33m\u001b[0m\u001b[0m\n\u001b[0m\u001b[0;32m     12\u001b[0m         \u001b[0mprint\u001b[0m\u001b[1;33m(\u001b[0m\u001b[0mr\u001b[0m\u001b[1;33m)\u001b[0m\u001b[1;33m\u001b[0m\u001b[1;33m\u001b[0m\u001b[0m\n\u001b[0;32m     13\u001b[0m     \u001b[1;32mexcept\u001b[0m \u001b[0mIndexError\u001b[0m\u001b[1;33m:\u001b[0m\u001b[1;33m\u001b[0m\u001b[1;33m\u001b[0m\u001b[0m\n",
      "\u001b[1;32mc:\\users\\kobelb\\appdata\\local\\programs\\python\\python37\\lib\\site-packages\\requests\\api.py\u001b[0m in \u001b[0;36mget\u001b[1;34m(url, params, **kwargs)\u001b[0m\n\u001b[0;32m     73\u001b[0m \u001b[1;33m\u001b[0m\u001b[0m\n\u001b[0;32m     74\u001b[0m     \u001b[0mkwargs\u001b[0m\u001b[1;33m.\u001b[0m\u001b[0msetdefault\u001b[0m\u001b[1;33m(\u001b[0m\u001b[1;34m'allow_redirects'\u001b[0m\u001b[1;33m,\u001b[0m \u001b[1;32mTrue\u001b[0m\u001b[1;33m)\u001b[0m\u001b[1;33m\u001b[0m\u001b[1;33m\u001b[0m\u001b[0m\n\u001b[1;32m---> 75\u001b[1;33m     \u001b[1;32mreturn\u001b[0m \u001b[0mrequest\u001b[0m\u001b[1;33m(\u001b[0m\u001b[1;34m'get'\u001b[0m\u001b[1;33m,\u001b[0m \u001b[0murl\u001b[0m\u001b[1;33m,\u001b[0m \u001b[0mparams\u001b[0m\u001b[1;33m=\u001b[0m\u001b[0mparams\u001b[0m\u001b[1;33m,\u001b[0m \u001b[1;33m**\u001b[0m\u001b[0mkwargs\u001b[0m\u001b[1;33m)\u001b[0m\u001b[1;33m\u001b[0m\u001b[1;33m\u001b[0m\u001b[0m\n\u001b[0m\u001b[0;32m     76\u001b[0m \u001b[1;33m\u001b[0m\u001b[0m\n\u001b[0;32m     77\u001b[0m \u001b[1;33m\u001b[0m\u001b[0m\n",
      "\u001b[1;32mc:\\users\\kobelb\\appdata\\local\\programs\\python\\python37\\lib\\site-packages\\requests\\api.py\u001b[0m in \u001b[0;36mrequest\u001b[1;34m(method, url, **kwargs)\u001b[0m\n\u001b[0;32m     58\u001b[0m     \u001b[1;31m# cases, and look like a memory leak in others.\u001b[0m\u001b[1;33m\u001b[0m\u001b[1;33m\u001b[0m\u001b[1;33m\u001b[0m\u001b[0m\n\u001b[0;32m     59\u001b[0m     \u001b[1;32mwith\u001b[0m \u001b[0msessions\u001b[0m\u001b[1;33m.\u001b[0m\u001b[0mSession\u001b[0m\u001b[1;33m(\u001b[0m\u001b[1;33m)\u001b[0m \u001b[1;32mas\u001b[0m \u001b[0msession\u001b[0m\u001b[1;33m:\u001b[0m\u001b[1;33m\u001b[0m\u001b[1;33m\u001b[0m\u001b[0m\n\u001b[1;32m---> 60\u001b[1;33m         \u001b[1;32mreturn\u001b[0m \u001b[0msession\u001b[0m\u001b[1;33m.\u001b[0m\u001b[0mrequest\u001b[0m\u001b[1;33m(\u001b[0m\u001b[0mmethod\u001b[0m\u001b[1;33m=\u001b[0m\u001b[0mmethod\u001b[0m\u001b[1;33m,\u001b[0m \u001b[0murl\u001b[0m\u001b[1;33m=\u001b[0m\u001b[0murl\u001b[0m\u001b[1;33m,\u001b[0m \u001b[1;33m**\u001b[0m\u001b[0mkwargs\u001b[0m\u001b[1;33m)\u001b[0m\u001b[1;33m\u001b[0m\u001b[1;33m\u001b[0m\u001b[0m\n\u001b[0m\u001b[0;32m     61\u001b[0m \u001b[1;33m\u001b[0m\u001b[0m\n\u001b[0;32m     62\u001b[0m \u001b[1;33m\u001b[0m\u001b[0m\n",
      "\u001b[1;32mc:\\users\\kobelb\\appdata\\local\\programs\\python\\python37\\lib\\site-packages\\requests\\sessions.py\u001b[0m in \u001b[0;36mrequest\u001b[1;34m(self, method, url, params, data, headers, cookies, files, auth, timeout, allow_redirects, proxies, hooks, stream, verify, cert, json)\u001b[0m\n\u001b[0;32m    531\u001b[0m         }\n\u001b[0;32m    532\u001b[0m         \u001b[0msend_kwargs\u001b[0m\u001b[1;33m.\u001b[0m\u001b[0mupdate\u001b[0m\u001b[1;33m(\u001b[0m\u001b[0msettings\u001b[0m\u001b[1;33m)\u001b[0m\u001b[1;33m\u001b[0m\u001b[1;33m\u001b[0m\u001b[0m\n\u001b[1;32m--> 533\u001b[1;33m         \u001b[0mresp\u001b[0m \u001b[1;33m=\u001b[0m \u001b[0mself\u001b[0m\u001b[1;33m.\u001b[0m\u001b[0msend\u001b[0m\u001b[1;33m(\u001b[0m\u001b[0mprep\u001b[0m\u001b[1;33m,\u001b[0m \u001b[1;33m**\u001b[0m\u001b[0msend_kwargs\u001b[0m\u001b[1;33m)\u001b[0m\u001b[1;33m\u001b[0m\u001b[1;33m\u001b[0m\u001b[0m\n\u001b[0m\u001b[0;32m    534\u001b[0m \u001b[1;33m\u001b[0m\u001b[0m\n\u001b[0;32m    535\u001b[0m         \u001b[1;32mreturn\u001b[0m \u001b[0mresp\u001b[0m\u001b[1;33m\u001b[0m\u001b[1;33m\u001b[0m\u001b[0m\n",
      "\u001b[1;32mc:\\users\\kobelb\\appdata\\local\\programs\\python\\python37\\lib\\site-packages\\requests\\sessions.py\u001b[0m in \u001b[0;36msend\u001b[1;34m(self, request, **kwargs)\u001b[0m\n\u001b[0;32m    644\u001b[0m \u001b[1;33m\u001b[0m\u001b[0m\n\u001b[0;32m    645\u001b[0m         \u001b[1;31m# Send the request\u001b[0m\u001b[1;33m\u001b[0m\u001b[1;33m\u001b[0m\u001b[1;33m\u001b[0m\u001b[0m\n\u001b[1;32m--> 646\u001b[1;33m         \u001b[0mr\u001b[0m \u001b[1;33m=\u001b[0m \u001b[0madapter\u001b[0m\u001b[1;33m.\u001b[0m\u001b[0msend\u001b[0m\u001b[1;33m(\u001b[0m\u001b[0mrequest\u001b[0m\u001b[1;33m,\u001b[0m \u001b[1;33m**\u001b[0m\u001b[0mkwargs\u001b[0m\u001b[1;33m)\u001b[0m\u001b[1;33m\u001b[0m\u001b[1;33m\u001b[0m\u001b[0m\n\u001b[0m\u001b[0;32m    647\u001b[0m \u001b[1;33m\u001b[0m\u001b[0m\n\u001b[0;32m    648\u001b[0m         \u001b[1;31m# Total elapsed time of the request (approximately)\u001b[0m\u001b[1;33m\u001b[0m\u001b[1;33m\u001b[0m\u001b[1;33m\u001b[0m\u001b[0m\n",
      "\u001b[1;32mc:\\users\\kobelb\\appdata\\local\\programs\\python\\python37\\lib\\site-packages\\requests\\adapters.py\u001b[0m in \u001b[0;36msend\u001b[1;34m(self, request, stream, timeout, verify, cert, proxies)\u001b[0m\n\u001b[0;32m    447\u001b[0m                     \u001b[0mdecode_content\u001b[0m\u001b[1;33m=\u001b[0m\u001b[1;32mFalse\u001b[0m\u001b[1;33m,\u001b[0m\u001b[1;33m\u001b[0m\u001b[1;33m\u001b[0m\u001b[0m\n\u001b[0;32m    448\u001b[0m                     \u001b[0mretries\u001b[0m\u001b[1;33m=\u001b[0m\u001b[0mself\u001b[0m\u001b[1;33m.\u001b[0m\u001b[0mmax_retries\u001b[0m\u001b[1;33m,\u001b[0m\u001b[1;33m\u001b[0m\u001b[1;33m\u001b[0m\u001b[0m\n\u001b[1;32m--> 449\u001b[1;33m                     \u001b[0mtimeout\u001b[0m\u001b[1;33m=\u001b[0m\u001b[0mtimeout\u001b[0m\u001b[1;33m\u001b[0m\u001b[1;33m\u001b[0m\u001b[0m\n\u001b[0m\u001b[0;32m    450\u001b[0m                 )\n\u001b[0;32m    451\u001b[0m \u001b[1;33m\u001b[0m\u001b[0m\n",
      "\u001b[1;32mc:\\users\\kobelb\\appdata\\local\\programs\\python\\python37\\lib\\site-packages\\urllib3\\connectionpool.py\u001b[0m in \u001b[0;36murlopen\u001b[1;34m(self, method, url, body, headers, retries, redirect, assert_same_host, timeout, pool_timeout, release_conn, chunked, body_pos, **response_kw)\u001b[0m\n\u001b[0;32m    601\u001b[0m                                                   \u001b[0mtimeout\u001b[0m\u001b[1;33m=\u001b[0m\u001b[0mtimeout_obj\u001b[0m\u001b[1;33m,\u001b[0m\u001b[1;33m\u001b[0m\u001b[1;33m\u001b[0m\u001b[0m\n\u001b[0;32m    602\u001b[0m                                                   \u001b[0mbody\u001b[0m\u001b[1;33m=\u001b[0m\u001b[0mbody\u001b[0m\u001b[1;33m,\u001b[0m \u001b[0mheaders\u001b[0m\u001b[1;33m=\u001b[0m\u001b[0mheaders\u001b[0m\u001b[1;33m,\u001b[0m\u001b[1;33m\u001b[0m\u001b[1;33m\u001b[0m\u001b[0m\n\u001b[1;32m--> 603\u001b[1;33m                                                   chunked=chunked)\n\u001b[0m\u001b[0;32m    604\u001b[0m \u001b[1;33m\u001b[0m\u001b[0m\n\u001b[0;32m    605\u001b[0m             \u001b[1;31m# If we're going to release the connection in ``finally:``, then\u001b[0m\u001b[1;33m\u001b[0m\u001b[1;33m\u001b[0m\u001b[1;33m\u001b[0m\u001b[0m\n",
      "\u001b[1;32mc:\\users\\kobelb\\appdata\\local\\programs\\python\\python37\\lib\\site-packages\\urllib3\\connectionpool.py\u001b[0m in \u001b[0;36m_make_request\u001b[1;34m(self, conn, method, url, timeout, chunked, **httplib_request_kw)\u001b[0m\n\u001b[0;32m    342\u001b[0m         \u001b[1;31m# Trigger any extra validation we need to do.\u001b[0m\u001b[1;33m\u001b[0m\u001b[1;33m\u001b[0m\u001b[1;33m\u001b[0m\u001b[0m\n\u001b[0;32m    343\u001b[0m         \u001b[1;32mtry\u001b[0m\u001b[1;33m:\u001b[0m\u001b[1;33m\u001b[0m\u001b[1;33m\u001b[0m\u001b[0m\n\u001b[1;32m--> 344\u001b[1;33m             \u001b[0mself\u001b[0m\u001b[1;33m.\u001b[0m\u001b[0m_validate_conn\u001b[0m\u001b[1;33m(\u001b[0m\u001b[0mconn\u001b[0m\u001b[1;33m)\u001b[0m\u001b[1;33m\u001b[0m\u001b[1;33m\u001b[0m\u001b[0m\n\u001b[0m\u001b[0;32m    345\u001b[0m         \u001b[1;32mexcept\u001b[0m \u001b[1;33m(\u001b[0m\u001b[0mSocketTimeout\u001b[0m\u001b[1;33m,\u001b[0m \u001b[0mBaseSSLError\u001b[0m\u001b[1;33m)\u001b[0m \u001b[1;32mas\u001b[0m \u001b[0me\u001b[0m\u001b[1;33m:\u001b[0m\u001b[1;33m\u001b[0m\u001b[1;33m\u001b[0m\u001b[0m\n\u001b[0;32m    346\u001b[0m             \u001b[1;31m# Py2 raises this as a BaseSSLError, Py3 raises it as socket timeout.\u001b[0m\u001b[1;33m\u001b[0m\u001b[1;33m\u001b[0m\u001b[1;33m\u001b[0m\u001b[0m\n",
      "\u001b[1;32mc:\\users\\kobelb\\appdata\\local\\programs\\python\\python37\\lib\\site-packages\\urllib3\\connectionpool.py\u001b[0m in \u001b[0;36m_validate_conn\u001b[1;34m(self, conn)\u001b[0m\n\u001b[0;32m    841\u001b[0m         \u001b[1;31m# Force connect early to allow us to validate the connection.\u001b[0m\u001b[1;33m\u001b[0m\u001b[1;33m\u001b[0m\u001b[1;33m\u001b[0m\u001b[0m\n\u001b[0;32m    842\u001b[0m         \u001b[1;32mif\u001b[0m \u001b[1;32mnot\u001b[0m \u001b[0mgetattr\u001b[0m\u001b[1;33m(\u001b[0m\u001b[0mconn\u001b[0m\u001b[1;33m,\u001b[0m \u001b[1;34m'sock'\u001b[0m\u001b[1;33m,\u001b[0m \u001b[1;32mNone\u001b[0m\u001b[1;33m)\u001b[0m\u001b[1;33m:\u001b[0m  \u001b[1;31m# AppEngine might not have  `.sock`\u001b[0m\u001b[1;33m\u001b[0m\u001b[1;33m\u001b[0m\u001b[0m\n\u001b[1;32m--> 843\u001b[1;33m             \u001b[0mconn\u001b[0m\u001b[1;33m.\u001b[0m\u001b[0mconnect\u001b[0m\u001b[1;33m(\u001b[0m\u001b[1;33m)\u001b[0m\u001b[1;33m\u001b[0m\u001b[1;33m\u001b[0m\u001b[0m\n\u001b[0m\u001b[0;32m    844\u001b[0m \u001b[1;33m\u001b[0m\u001b[0m\n\u001b[0;32m    845\u001b[0m         \u001b[1;32mif\u001b[0m \u001b[1;32mnot\u001b[0m \u001b[0mconn\u001b[0m\u001b[1;33m.\u001b[0m\u001b[0mis_verified\u001b[0m\u001b[1;33m:\u001b[0m\u001b[1;33m\u001b[0m\u001b[1;33m\u001b[0m\u001b[0m\n",
      "\u001b[1;32mc:\\users\\kobelb\\appdata\\local\\programs\\python\\python37\\lib\\site-packages\\urllib3\\connection.py\u001b[0m in \u001b[0;36mconnect\u001b[1;34m(self)\u001b[0m\n\u001b[0;32m    368\u001b[0m             \u001b[0mca_cert_dir\u001b[0m\u001b[1;33m=\u001b[0m\u001b[0mself\u001b[0m\u001b[1;33m.\u001b[0m\u001b[0mca_cert_dir\u001b[0m\u001b[1;33m,\u001b[0m\u001b[1;33m\u001b[0m\u001b[1;33m\u001b[0m\u001b[0m\n\u001b[0;32m    369\u001b[0m             \u001b[0mserver_hostname\u001b[0m\u001b[1;33m=\u001b[0m\u001b[0mserver_hostname\u001b[0m\u001b[1;33m,\u001b[0m\u001b[1;33m\u001b[0m\u001b[1;33m\u001b[0m\u001b[0m\n\u001b[1;32m--> 370\u001b[1;33m             ssl_context=context)\n\u001b[0m\u001b[0;32m    371\u001b[0m \u001b[1;33m\u001b[0m\u001b[0m\n\u001b[0;32m    372\u001b[0m         \u001b[1;32mif\u001b[0m \u001b[0mself\u001b[0m\u001b[1;33m.\u001b[0m\u001b[0massert_fingerprint\u001b[0m\u001b[1;33m:\u001b[0m\u001b[1;33m\u001b[0m\u001b[1;33m\u001b[0m\u001b[0m\n",
      "\u001b[1;32mc:\\users\\kobelb\\appdata\\local\\programs\\python\\python37\\lib\\site-packages\\urllib3\\util\\ssl_.py\u001b[0m in \u001b[0;36mssl_wrap_socket\u001b[1;34m(sock, keyfile, certfile, cert_reqs, ca_certs, server_hostname, ssl_version, ciphers, ssl_context, ca_cert_dir, key_password)\u001b[0m\n\u001b[0;32m    353\u001b[0m             or IS_SECURETRANSPORT):\n\u001b[0;32m    354\u001b[0m         \u001b[1;32mif\u001b[0m \u001b[0mHAS_SNI\u001b[0m \u001b[1;32mand\u001b[0m \u001b[0mserver_hostname\u001b[0m \u001b[1;32mis\u001b[0m \u001b[1;32mnot\u001b[0m \u001b[1;32mNone\u001b[0m\u001b[1;33m:\u001b[0m\u001b[1;33m\u001b[0m\u001b[1;33m\u001b[0m\u001b[0m\n\u001b[1;32m--> 355\u001b[1;33m             \u001b[1;32mreturn\u001b[0m \u001b[0mcontext\u001b[0m\u001b[1;33m.\u001b[0m\u001b[0mwrap_socket\u001b[0m\u001b[1;33m(\u001b[0m\u001b[0msock\u001b[0m\u001b[1;33m,\u001b[0m \u001b[0mserver_hostname\u001b[0m\u001b[1;33m=\u001b[0m\u001b[0mserver_hostname\u001b[0m\u001b[1;33m)\u001b[0m\u001b[1;33m\u001b[0m\u001b[1;33m\u001b[0m\u001b[0m\n\u001b[0m\u001b[0;32m    356\u001b[0m \u001b[1;33m\u001b[0m\u001b[0m\n\u001b[0;32m    357\u001b[0m         warnings.warn(\n",
      "\u001b[1;32mc:\\users\\kobelb\\appdata\\local\\programs\\python\\python37\\lib\\ssl.py\u001b[0m in \u001b[0;36mwrap_socket\u001b[1;34m(self, sock, server_side, do_handshake_on_connect, suppress_ragged_eofs, server_hostname, session)\u001b[0m\n\u001b[0;32m    421\u001b[0m             \u001b[0mserver_hostname\u001b[0m\u001b[1;33m=\u001b[0m\u001b[0mserver_hostname\u001b[0m\u001b[1;33m,\u001b[0m\u001b[1;33m\u001b[0m\u001b[1;33m\u001b[0m\u001b[0m\n\u001b[0;32m    422\u001b[0m             \u001b[0mcontext\u001b[0m\u001b[1;33m=\u001b[0m\u001b[0mself\u001b[0m\u001b[1;33m,\u001b[0m\u001b[1;33m\u001b[0m\u001b[1;33m\u001b[0m\u001b[0m\n\u001b[1;32m--> 423\u001b[1;33m             \u001b[0msession\u001b[0m\u001b[1;33m=\u001b[0m\u001b[0msession\u001b[0m\u001b[1;33m\u001b[0m\u001b[1;33m\u001b[0m\u001b[0m\n\u001b[0m\u001b[0;32m    424\u001b[0m         )\n\u001b[0;32m    425\u001b[0m \u001b[1;33m\u001b[0m\u001b[0m\n",
      "\u001b[1;32mc:\\users\\kobelb\\appdata\\local\\programs\\python\\python37\\lib\\ssl.py\u001b[0m in \u001b[0;36m_create\u001b[1;34m(cls, sock, server_side, do_handshake_on_connect, suppress_ragged_eofs, server_hostname, context, session)\u001b[0m\n\u001b[0;32m    868\u001b[0m                         \u001b[1;31m# non-blocking\u001b[0m\u001b[1;33m\u001b[0m\u001b[1;33m\u001b[0m\u001b[1;33m\u001b[0m\u001b[0m\n\u001b[0;32m    869\u001b[0m                         \u001b[1;32mraise\u001b[0m \u001b[0mValueError\u001b[0m\u001b[1;33m(\u001b[0m\u001b[1;34m\"do_handshake_on_connect should not be specified for non-blocking sockets\"\u001b[0m\u001b[1;33m)\u001b[0m\u001b[1;33m\u001b[0m\u001b[1;33m\u001b[0m\u001b[0m\n\u001b[1;32m--> 870\u001b[1;33m                     \u001b[0mself\u001b[0m\u001b[1;33m.\u001b[0m\u001b[0mdo_handshake\u001b[0m\u001b[1;33m(\u001b[0m\u001b[1;33m)\u001b[0m\u001b[1;33m\u001b[0m\u001b[1;33m\u001b[0m\u001b[0m\n\u001b[0m\u001b[0;32m    871\u001b[0m             \u001b[1;32mexcept\u001b[0m \u001b[1;33m(\u001b[0m\u001b[0mOSError\u001b[0m\u001b[1;33m,\u001b[0m \u001b[0mValueError\u001b[0m\u001b[1;33m)\u001b[0m\u001b[1;33m:\u001b[0m\u001b[1;33m\u001b[0m\u001b[1;33m\u001b[0m\u001b[0m\n\u001b[0;32m    872\u001b[0m                 \u001b[0mself\u001b[0m\u001b[1;33m.\u001b[0m\u001b[0mclose\u001b[0m\u001b[1;33m(\u001b[0m\u001b[1;33m)\u001b[0m\u001b[1;33m\u001b[0m\u001b[1;33m\u001b[0m\u001b[0m\n",
      "\u001b[1;32mc:\\users\\kobelb\\appdata\\local\\programs\\python\\python37\\lib\\ssl.py\u001b[0m in \u001b[0;36mdo_handshake\u001b[1;34m(self, block)\u001b[0m\n\u001b[0;32m   1137\u001b[0m             \u001b[1;32mif\u001b[0m \u001b[0mtimeout\u001b[0m \u001b[1;33m==\u001b[0m \u001b[1;36m0.0\u001b[0m \u001b[1;32mand\u001b[0m \u001b[0mblock\u001b[0m\u001b[1;33m:\u001b[0m\u001b[1;33m\u001b[0m\u001b[1;33m\u001b[0m\u001b[0m\n\u001b[0;32m   1138\u001b[0m                 \u001b[0mself\u001b[0m\u001b[1;33m.\u001b[0m\u001b[0msettimeout\u001b[0m\u001b[1;33m(\u001b[0m\u001b[1;32mNone\u001b[0m\u001b[1;33m)\u001b[0m\u001b[1;33m\u001b[0m\u001b[1;33m\u001b[0m\u001b[0m\n\u001b[1;32m-> 1139\u001b[1;33m             \u001b[0mself\u001b[0m\u001b[1;33m.\u001b[0m\u001b[0m_sslobj\u001b[0m\u001b[1;33m.\u001b[0m\u001b[0mdo_handshake\u001b[0m\u001b[1;33m(\u001b[0m\u001b[1;33m)\u001b[0m\u001b[1;33m\u001b[0m\u001b[1;33m\u001b[0m\u001b[0m\n\u001b[0m\u001b[0;32m   1140\u001b[0m         \u001b[1;32mfinally\u001b[0m\u001b[1;33m:\u001b[0m\u001b[1;33m\u001b[0m\u001b[1;33m\u001b[0m\u001b[0m\n\u001b[0;32m   1141\u001b[0m             \u001b[0mself\u001b[0m\u001b[1;33m.\u001b[0m\u001b[0msettimeout\u001b[0m\u001b[1;33m(\u001b[0m\u001b[0mtimeout\u001b[0m\u001b[1;33m)\u001b[0m\u001b[1;33m\u001b[0m\u001b[1;33m\u001b[0m\u001b[0m\n",
      "\u001b[1;31mKeyboardInterrupt\u001b[0m: "
     ]
    }
   ],
   "source": [
    "import numpy as np\n",
    "# with open('odds.json') as f:\n",
    "#     sports_json = json.load(f)\n",
    "    \n",
    "for game in sports_json['data']:\n",
    "    for team in game['teams']:\n",
    "        getTeamData(team)"
   ]
  },
  {
   "cell_type": "code",
   "execution_count": null,
   "metadata": {},
   "outputs": [],
   "source": [
    "import math\n",
    "\n",
    "#Returns the confidence that the home team will win.\n",
    "\n",
    "def getHomeConf(away, home):\n",
    "    t1coef_mult = float(away['KenPomVal']) * -0.14904683 + float(away['BPIval']) * 0.02408791 + float(away['SRS']) * -0.00285878\n",
    "    t2coef_mult = float(home['KenPomVal']) *  0.14617775 + float(home['BPIval']) * -0.05714497+ float(home['SRS']) * 0.03016929\n",
    " \n",
    "    coef_sum = (t1coef_mult + t2coef_mult)+0.53923323\n",
    "    eTOs = math.exp(coef_sum)\n",
    "    conf = eTOs / (1+eTOs)\n",
    "    return(conf)\n",
    "\n",
    "a = getTeamData('Boise St.')\n",
    "h = getTeamData('BYU')\n",
    "\n",
    "print('V1: ' + str(getHomeConf(a, h)))"
   ]
  },
  {
   "cell_type": "code",
   "execution_count": 9,
   "metadata": {},
   "outputs": [
    {
     "data": {
      "text/plain": [
       "array([[-0.14904683,  0.02408791, -0.00285878,  0.14617775, -0.05714497,\n",
       "         0.03016929]])"
      ]
     },
     "execution_count": 9,
     "metadata": {},
     "output_type": "execute_result"
    }
   ],
   "source": [
    "loaded_model = pickle.load(open('6yr_LR.sav', 'rb'))\n",
    "loaded_model.coef_"
   ]
  },
  {
   "cell_type": "code",
   "execution_count": 10,
   "metadata": {
    "scrolled": true
   },
   "outputs": [
    {
     "name": "stdout",
     "output_type": "stream",
     "text": [
      "{'BPIrank': '144', 'BPIval': '1', 'KenPomRank': 121, 'KenPomVal': '4.56', 'Opp_Three_Par': '0.324', 'Opp_Tov': '28.4', 'Opp_True_Shoot': '0.467', 'Pace': '72.6', 'SRS': '9.83', 'Team': ['Abilene Christian', 'Abilene Christian', 'Abilene Christian'], 'Three_Par': '0.369', 'Tov': '20.3', 'True_Shoot': '0.528', 'd_eff': '83.62', 'o_eff': '100.02', 'papg': '54.5', 'ppg': '69', 'record_time': 'Thu, 10 Dec 2020 07:00:00 GMT'}\n",
      "None\n"
     ]
    }
   ],
   "source": [
    "stuff = getTeamData('Kansas')\n",
    "print(stuff)"
   ]
  },
  {
   "cell_type": "code",
   "execution_count": 11,
   "metadata": {},
   "outputs": [],
   "source": [
    "start_time = sports_json['data'][0]['commence_time']"
   ]
  },
  {
   "cell_type": "code",
   "execution_count": 12,
   "metadata": {},
   "outputs": [
    {
     "data": {
      "text/plain": [
       "'Friday, December 11, 2020 12:30:00'"
      ]
     },
     "execution_count": 12,
     "metadata": {},
     "output_type": "execute_result"
    }
   ],
   "source": [
    "dt.datetime.fromtimestamp(start_time).strftime(\"%A, %B %d, %Y %I:%M:%S\")"
   ]
  },
  {
   "cell_type": "code",
   "execution_count": 27,
   "metadata": {},
   "outputs": [
    {
     "name": "stdout",
     "output_type": "stream",
     "text": [
      "['Florida Gators', 'Florida St Seminoles'] Florida St Seminoles\n",
      "[104, -123] draftkings\n",
      "['Kentucky Wildcats', 'Notre Dame Fighting Irish'] Kentucky Wildcats\n",
      "[-303, 240] draftkings\n",
      "['Toledo Rockets', 'UMKC Kangaroos'] Toledo Rockets\n",
      "[-833, 525] bovada\n",
      "['IUPUI Jaguars', 'Tennessee St Tigers'] IUPUI Jaguars\n",
      "[-135, 115] bovada\n",
      "['South Florida Bulls', 'Wofford Terriers'] South Florida Bulls\n",
      "[-154, 135] bovada\n",
      "['Florida Gulf Coast Eagles', 'Miami Hurricanes'] Miami Hurricanes\n",
      "[1400, -5000] draftkings\n",
      "['Cincinnati Bearcats', 'Tennessee Volunteers'] Tennessee Volunteers\n",
      "[255, -333] draftkings\n",
      "['Boston College Eagles', 'Syracuse Orange'] Boston College Eagles\n",
      "[140, -161] bovada\n",
      "['Bryant Bulldogs', 'Stony Brook Seawolves'] Bryant Bulldogs\n",
      "[-238, 195] draftkings\n",
      "['Drexel Dragons', 'La Salle Explorers'] Drexel Dragons\n",
      "[-149, 130] bovada\n",
      "['Detroit Mercy Titans', 'Western Michigan Broncos'] Western Michigan Broncos\n",
      "[100, -120] bovada\n",
      "['TCU Horned Frogs', 'Texas A&M Aggies'] TCU Horned Frogs\n",
      "[-125, 105] bovada\n",
      "['St. Bonaventure Bonnies', 'St. Francis (PA) Red Flash'] St. Bonaventure Bonnies\n",
      "[-2000, 950] draftkings\n",
      "['Arkansas-Pine Bluff Golden Lions', 'Tulane Green Wave'] Tulane Green Wave\n",
      "[1050, -2500] draftkings\n",
      "['Texas A&M-CC Islanders', 'Texas Tech Red Raiders'] Texas Tech Red Raiders\n",
      "['North Carolina Central Eagles', 'North Carolina Tar Heels'] North Carolina Tar Heels\n",
      "['High Point Panthers', 'UNC Asheville Bulldogs'] UNC Asheville Bulldogs\n",
      "[165, -204] draftkings\n",
      "['Dayton Flyers', 'Mississippi St Bulldogs'] Mississippi St Bulldogs\n",
      "[-169, 150] bovada\n",
      "['Evansville Purple Aces', 'Saint Louis Billikens'] Saint Louis Billikens\n",
      "['Oklahoma St Cowboys', 'Wichita St Shockers'] Wichita St Shockers\n",
      "[-185, 155] draftkings\n",
      "['Denver Pioneers', 'NC State Wolfpack'] Denver Pioneers\n",
      "[-154, 135] bovada\n",
      "['South Alabama Jaguars', 'Southern Miss Golden Eagles'] Southern Miss Golden Eagles\n",
      "['CSU Bakersfield Roadrunners', 'Idaho Vandals'] CSU Bakersfield Roadrunners\n",
      "['East Tennessee St Buccaneers', 'UAB Blazers'] East Tennessee St Buccaneers\n",
      "[150, -169] bovada\n",
      "['Gardner-Webb Bulldogs', 'Pittsburgh Panthers'] Pittsburgh Panthers\n",
      "[700, -1111] draftkings\n",
      "['South Carolina Upstate Spartans', 'Winthrop Eagles'] South Carolina Upstate Spartans\n",
      "[440, -625] draftkings\n",
      "['North Carolina A&T Aggies', 'Western Carolina Catamounts'] North Carolina A&T Aggies\n",
      "[230, -286] draftkings\n",
      "['Utah Valley Wolverines', 'Wyoming Cowboys'] Utah Valley Wolverines\n",
      "[255, -312] bovada\n",
      "['Central Michigan Chippewas', 'Valparaiso Crusaders'] Central Michigan Chippewas\n",
      "[135, -154] bovada\n",
      "['Sacramento St Hornets', 'Santa Clara Broncos'] Santa Clara Broncos\n",
      "['Old Dominion Monarchs', 'VCU Rams'] VCU Rams\n",
      "[255, -333] draftkings\n",
      "['Eastern Illinois Panthers', 'Western Illinois Leathernecks'] Eastern Illinois Panthers\n",
      "[-1429, 750] bovada\n",
      "['Loyola Marymount Lions', 'UC Santa Barbara Gauchos'] Loyola Marymount Lions\n",
      "[-125, 105] bovada\n",
      "['Ole Miss Rebels', 'UNC Wilmington Seahawks'] Ole Miss Rebels\n",
      "[-3333, 1300] draftkings\n",
      "['Florida A&M Rattlers', 'Oklahoma Sooners'] Oklahoma Sooners\n",
      "['Stephen F. Austin Lumberjacks', 'UL Monroe Warhawks'] UL Monroe Warhawks\n",
      "[\"Florida Int'l Golden Panthers\", 'North Florida Ospreys'] North Florida Ospreys\n",
      "[-345, 270] draftkings\n",
      "['Auburn Tigers', 'Memphis Tigers'] Memphis Tigers\n",
      "[255, -312] bovada\n",
      "['Arizona Wildcats', 'UTEP Miners'] Arizona Wildcats\n",
      "[-3333, 1125] bovada\n",
      "['BYU Cougars', 'Utah Utes'] BYU Cougars\n",
      "[-125, 105] bovada\n",
      "['Manhattan Jaspers', 'Rider Broncs'] Manhattan Jaspers\n",
      "['North Dakota Fighting Hawks', 'North Dakota St Bison'] North Dakota St Bison\n",
      "[200, -244] draftkings\n",
      "['Georgia Tech Yellow Jackets', 'Samford Bulldogs'] Georgia Tech Yellow Jackets\n",
      "[-5000, 1225] bovada\n",
      "['Ball State Cardinals', 'Illinois St Redbirds'] Ball State Cardinals\n",
      "[-303, 250] bovada\n",
      "[\"Louisiana Ragin' Cajuns\", 'Louisiana Tech Bulldogs'] Louisiana Ragin' Cajuns\n",
      "['Georgia Bulldogs', 'Samford Bulldogs'] Georgia Bulldogs\n",
      "[-2500, 1050] draftkings\n",
      "['Canisius Golden Griffins', 'Marist Red Foxes'] Canisius Golden Griffins\n",
      "[-204, 165] draftkings\n",
      "['Indiana St Sycamores', 'Purdue Boilermakers'] Purdue Boilermakers\n",
      "[750, -1429] bovada\n",
      "['Alabama Crimson Tide', 'Clemson Tigers'] Clemson Tigers\n",
      "[-120, 100] draftkings\n",
      "['Illinois Fighting Illini', 'Missouri Tigers'] Missouri Tigers\n",
      "[-143, 120] draftkings\n",
      "['Oregon Ducks', 'Washington Huskies'] Washington Huskies\n",
      "[-333, 265] bovada\n",
      "['Arkansas Razorbacks', 'Central Arkansas Bears'] Arkansas Razorbacks\n",
      "['Belmont Bruins', 'Lipscomb Bisons'] Lipscomb Bisons\n",
      "[-238, 195] draftkings\n",
      "['Niagara Purple Eagles', \"Saint Peter's Peacocks\"] Saint Peter's Peacocks\n",
      "['CSU Northridge Matadors', 'Pepperdine Waves'] Pepperdine Waves\n",
      "[850, -1667] bovada\n",
      "['South Dakota Coyotes', 'South Dakota St Jackrabbits'] South Dakota St Jackrabbits\n",
      "[800, -1429] draftkings\n"
     ]
    }
   ],
   "source": [
    "for game in sports_json['data']:\n",
    "    print(game['teams'],game['home_team'])\n",
    "    for site in game['sites']:\n",
    "        if site['site_key'] == 'bovada':\n",
    "            odds = site['odds']['h2h']\n",
    "            for x in range(len(odds)):\n",
    "                y = odds[x]\n",
    "                if y==1:\n",
    "                    break\n",
    "                elif y<2:\n",
    "                    y = round(-100/(y-1))\n",
    "                else:\n",
    "                    y = round((y-1)*100)\n",
    "                odds[x] = y\n",
    "            print(odds,site['site_key'])\n",
    "            break\n",
    "        if site['site_key'] == 'draftkings':\n",
    "            odds = site['odds']['h2h']\n",
    "            for x in range(len(odds)):\n",
    "                y = odds[x]\n",
    "                if y==1:\n",
    "                    break\n",
    "                elif y<2:\n",
    "                    y = round(-100/(y-1))\n",
    "                else:\n",
    "                    y = round((y-1)*100)\n",
    "                odds[x] = y\n",
    "            print(odds,site['site_key'])"
   ]
  },
  {
   "cell_type": "code",
   "execution_count": null,
   "metadata": {},
   "outputs": [],
   "source": []
  }
 ],
 "metadata": {
  "kernelspec": {
   "display_name": "Python 3",
   "language": "python",
   "name": "python3"
  },
  "language_info": {
   "codemirror_mode": {
    "name": "ipython",
    "version": 3
   },
   "file_extension": ".py",
   "mimetype": "text/x-python",
   "name": "python",
   "nbconvert_exporter": "python",
   "pygments_lexer": "ipython3",
   "version": "3.7.4"
  }
 },
 "nbformat": 4,
 "nbformat_minor": 4
}
