{
 "cells": [
  {
   "cell_type": "code",
   "execution_count": 38,
   "metadata": {},
   "outputs": [],
   "source": [
    "import json\n",
    "import requests\n",
    "import datetime as dt\n",
    "import pickle\n",
    "import pandas as pd\n",
    "import mysql.connector\n",
    "import os\n",
    "from os.path import join, dirname\n",
    "from datetime import date, datetime\n",
    "\n",
    "from dotenv import load_dotenv\n",
    "import db_helper"
   ]
  },
  {
   "cell_type": "code",
   "execution_count": 39,
   "metadata": {},
   "outputs": [],
   "source": [
    "def get_odds_data():\n",
    "    api_key = 'da3195c8356b3b0ee3e5a6682ed9c537'\n",
    "    sports_response = requests.get('https://api.the-odds-api.com/v3/odds', params={\n",
    "        'api_key': api_key,\n",
    "        'sport': 'basketball_ncaab',\n",
    "        'region': 'us',\n",
    "        'oddsFormat': 'american'\n",
    "    })\n",
    "\n",
    "\n",
    "#     print(sports_response.headers['x-requests-remaining'])\n",
    "    sports_json = json.loads(sports_response.text)\n",
    "    return sports_json\n",
    "    "
   ]
  },
  {
   "cell_type": "code",
   "execution_count": 40,
   "metadata": {},
   "outputs": [
    {
     "name": "stdout",
     "output_type": "stream",
     "text": [
      "https://api.the-odds-api.com/v3/odds/?apiKey=da3195c8356b3b0ee3e5a6682ed9c537&sport=basketball_ncaab&region=us&mkt=h2h&oddsFormat=american\n"
     ]
    }
   ],
   "source": [
    "print(\"https://api.the-odds-api.com/v3/odds/?apiKey=da3195c8356b3b0ee3e5a6682ed9c537&sport=basketball_ncaab&region=us&mkt=h2h&oddsFormat=american\")"
   ]
  },
  {
   "cell_type": "code",
   "execution_count": 41,
   "metadata": {},
   "outputs": [],
   "source": [
    "def getTeamData(teamid):\n",
    "    teamid = teamid.replace(\" \", \"%20\")\n",
    "    baseUrl=\"https://fastbreakstats-server-main-hqc7w3njda-uc.a.run.app/teams/\"\n",
    "    url=baseUrl+teamid\n",
    "\n",
    "    r = requests.get(url = url).json()\n",
    "    bpival = r['bpi']\n",
    "    kpval = r['kp']\n",
    "    srsval = r['srs']\n",
    "    return kpval, bpival, srsval"
   ]
  },
  {
   "cell_type": "code",
   "execution_count": 42,
   "metadata": {},
   "outputs": [],
   "source": [
    "def get_needed_odds(conf):\n",
    "    #This function calculates the odds needed for a bet to have an expected value of .1\n",
    "    #An EV of .1 means a $.10 expected return on $1 over time\n",
    "    #The normal formula is EV = (payout * confidence) - (bet * (1-conf))\n",
    "    #payout is the expected profit on a bet.\n",
    "    #confidence is models % chance of winning. 1-conf is for the other team\n",
    "    #The bet is always going to be $1 for simple math which removes the need for the bet variable\n",
    "    #below equation is rearranged to isolate and solve for the payout\n",
    "    payout = round(((.1+(1-conf))/conf),4) \n",
    "    #convert payout to american odds\n",
    "    if 100/payout > 100:\n",
    "        odds = round(-100/payout)\n",
    "    else:\n",
    "        odds = round(100*payout)\n",
    "    return odds"
   ]
  },
  {
   "cell_type": "code",
   "execution_count": 43,
   "metadata": {},
   "outputs": [],
   "source": [
    "def get_ev(odds,conf):\n",
    "    #This calculates the Expected Return on a $1 bet with the actual given bookie odds we pass in\n",
    "    #EV of .1 means a 10 cent return on a $1 bet over time\n",
    "    if int(odds) > 0:\n",
    "        payout = odds/100\n",
    "    else:\n",
    "        payout = -100/odds\n",
    "    ev = (conf * payout) - (1-conf)\n",
    "    return ev"
   ]
  },
  {
   "cell_type": "code",
   "execution_count": 44,
   "metadata": {},
   "outputs": [],
   "source": [
    "def get_kelly_bet(odds,conf):\n",
    "    if int(odds) > 0:\n",
    "        dec = 1+(odds/100)\n",
    "    else:\n",
    "        dec = 1-(100/odds)\n",
    "    kb = ((dec*conf) - (1-conf))/dec\n",
    "    return kb"
   ]
  },
  {
   "cell_type": "code",
   "execution_count": 45,
   "metadata": {},
   "outputs": [],
   "source": [
    "def convert_epoch(epoch):\n",
    "    return dt.datetime.fromtimestamp(epoch).strftime('%Y-%m-%d %H:%M:00')"
   ]
  },
  {
   "cell_type": "code",
   "execution_count": 50,
   "metadata": {
    "scrolled": true
   },
   "outputs": [
    {
     "name": "stderr",
     "output_type": "stream",
     "text": [
      "c:\\users\\blake\\appdata\\local\\programs\\python\\python36\\lib\\site-packages\\sklearn\\base.py:318: UserWarning: Trying to unpickle estimator LogisticRegression from version 0.22.1 when using version 0.22.2.post1. This might lead to breaking code or invalid results. Use at your own risk.\n",
      "  UserWarning)\n"
     ]
    }
   ],
   "source": [
    "def get_best_bets(teams,loaded_model,sports_json):\n",
    "    games_to_bet = []\n",
    "    for game in sports_json['data']:\n",
    "        #Loop through and get odds\n",
    "        if game['commence_time'] < dt.datetime.now().timestamp():\n",
    "            continue\n",
    "        if dt.datetime.fromtimestamp(game['commence_time']).date() > dt.datetime.now().date():\n",
    "            continue\n",
    "\n",
    "        game_time = convert_epoch(game['commence_time'])\n",
    "        home = game['home_team']\n",
    "        if game['home_team'] == game['teams'][0]:\n",
    "            away = game['teams'][1]\n",
    "        else:\n",
    "            away = game['teams'][0]\n",
    "\n",
    "        try:\n",
    "            home = home.replace(\"-\", \" \")\n",
    "            home = home.replace(\"(\", \"\")\n",
    "            home = home.replace(\")\", \"\")\n",
    "            home = home.replace(\".\", \"\")\n",
    "            away = away.replace(\"-\", \" \")\n",
    "            away = away.replace(\"(\", \"\")\n",
    "            away = away.replace(\")\", \"\")\n",
    "            away = away.replace(\".\", \"\")\n",
    "            homeid = str(teams.loc[teams['odds_api_name'] == home]['teamID'].values[0])\n",
    "            awayid = str(teams.loc[teams['odds_api_name'] == away]['teamID'].values[0])\n",
    "            homekp, homebpi, homesrs = getTeamData(homeid)\n",
    "            awaykp, awaybpi, awaysrs = getTeamData(awayid)\n",
    "        except Exception as e:\n",
    "            print(e)\n",
    "            print(game['teams'])\n",
    "            continue\n",
    "\n",
    "        res = loaded_model.predict_proba([[float(awaykp), float(awaybpi), float(awaysrs), float(homekp), float(homebpi), float(homesrs)]])\n",
    "        away_needed_odds = int(get_needed_odds(res[0][0]))    \n",
    "        home_needed_odds = int(get_needed_odds(res[0][1]))\n",
    "\n",
    "    #     print()\n",
    "        sites = list(filter(lambda site: site['site_key'] in ['williamhill_us','draftkings','bovada'], game['sites']))\n",
    "        if not sites:\n",
    "    #         print(\"Empty\")\n",
    "            continue\n",
    "    #     print(game['teams'],game['home_team'])\n",
    "        site_list, update_time_list, home_odds, away_odds = [],[],[],[]\n",
    "        for site in sites:\n",
    "            site_list.append(site['site_key'])\n",
    "            update_time_list.append(convert_epoch(site['last_update']))\n",
    "            if home == game['teams'][0]:\n",
    "                home_odds.append(int(site['odds']['h2h'][0]))\n",
    "                away_odds.append(int(site['odds']['h2h'][1]))\n",
    "            else:\n",
    "                home_odds.append(int(site['odds']['h2h'][1]))\n",
    "                away_odds.append(int(site['odds']['h2h'][0]))\n",
    "\n",
    "\n",
    "    #     print(\"Game Time:\", game_time)\n",
    "    #     print('Home team:', homeid)\n",
    "    #     print('Away team:', awayid)\n",
    "#         print('Home needed odds:', home_needed_odds)\n",
    "#         print('Away needed odds:', away_needed_odds)\n",
    "    #     print('Sites to check:', site_list)\n",
    "    #     print('Last Updated:', update_time_list)\n",
    "    #     print('Home Odds', home_odds)\n",
    "    #     print('Away Odds', away_odds)\n",
    "    #     print()\n",
    "\n",
    "        if any(home_odd > home_needed_odds for home_odd in home_odds):\n",
    "            index = home_odds.index(max(home_odds))\n",
    "    #         print('Sites to check:', site_list[index])\n",
    "    #         print('Last Updated:', update_time_list[index])\n",
    "    #         print('Betting Odds', home_odds[index])\n",
    "    #         print('Team to Bet ID', homeid)\n",
    "            game_to_bet = []\n",
    "            game_to_bet.append(game_time)\n",
    "            game_to_bet.append(str(homeid))\n",
    "            game_to_bet.append(str(awayid))\n",
    "            game_to_bet.append(site_list[index])\n",
    "            game_to_bet.append(str(home_odds[index]))\n",
    "            game_to_bet.append(update_time_list[index])\n",
    "            game_to_bet.append(str(home_needed_odds))\n",
    "            game_to_bet.append(str(homeid))\n",
    "            games_to_bet.append(game_to_bet)\n",
    "        if any(away_odd > away_needed_odds for away_odd in away_odds):\n",
    "            index = away_odds.index(max(away_odds))\n",
    "    #         print('Best Site for bet:', site_list[index])\n",
    "    #         print('Last Updated:', update_time_list[index])\n",
    "    #         print('Odds', away_odds[index])\n",
    "    #         print('Team to Bet ID', awayid)\n",
    "            game_to_bet = []\n",
    "            game_to_bet.append(game_time)\n",
    "            game_to_bet.append(str(homeid))\n",
    "            game_to_bet.append(str(awayid))\n",
    "            game_to_bet.append(site_list[index])\n",
    "            game_to_bet.append(str(away_odds[index]))\n",
    "            game_to_bet.append(update_time_list[index])\n",
    "            game_to_bet.append(str(away_needed_odds))\n",
    "            game_to_bet.append(str(awayid))\n",
    "            games_to_bet.append(game_to_bet)\n",
    "    return games_to_bet"
   ]
  },
  {
   "cell_type": "code",
   "execution_count": 52,
   "metadata": {},
   "outputs": [],
   "source": [
    "url=\"https://fastbreakstats-server-main-hqc7w3njda-uc.a.run.app/teams\"\n",
    "r = requests.get(url = url).json()\n",
    "teams = pd.DataFrame(r)\n",
    "loaded_model = pickle.load(open('6yr_LR.sav', 'rb'))\n",
    "# games_to_bet = []\n",
    "sports_json = get_odds_data()"
   ]
  },
  {
   "cell_type": "code",
   "execution_count": 55,
   "metadata": {},
   "outputs": [
    {
     "name": "stdout",
     "output_type": "stream",
     "text": [
      "index 0 is out of bounds for axis 0 with size 0\n",
      "[\"Hawai'i Rainbow Warriors\", 'UC Riverside Highlanders']\n"
     ]
    }
   ],
   "source": [
    "best_bets = get_best_bets(teams,loaded_model,sports_json)"
   ]
  },
  {
   "cell_type": "code",
   "execution_count": 56,
   "metadata": {},
   "outputs": [
    {
     "name": "stdout",
     "output_type": "stream",
     "text": [
      "['2021-01-08 15:00:00', '240', '158', 'williamhill_us', '-145', '2021-01-08 10:22:00', '-279', '240']\n",
      "['2021-01-08 15:00:00', '198', '245', 'bovada', '-290', '2021-01-08 10:22:00', '-325', '198']\n",
      "['2021-01-08 16:00:00', '107', '218', 'draftkings', '112', '2021-01-08 10:22:00', '-136', '107']\n",
      "['2021-01-08 17:00:00', '10', '101', 'williamhill_us', '-140', '2021-01-08 10:22:00', '-193', '10']\n",
      "['2021-01-08 17:30:00', '301', '219', 'williamhill_us', '-170', '2021-01-08 10:22:00', '-252', '301']\n",
      "['2021-01-08 18:00:00', '223', '90', 'draftkings', '-360', '2021-01-08 10:22:00', '-374', '223']\n",
      "['2021-01-08 18:00:00', '172', '238', 'williamhill_us', '190', '2021-01-08 10:22:00', '161', '238']\n",
      "['2021-01-08 18:00:00', '54', '214', 'williamhill_us', '-130', '2021-01-08 10:22:00', '-151', '54']\n",
      "['2021-01-08 18:00:00', '201', '284', 'williamhill_us', '130', '2021-01-08 10:22:00', '-110', '284']\n",
      "['2021-01-08 19:00:00', '39', '148', 'draftkings', '104', '2021-01-08 10:22:00', '-112', '148']\n",
      "['2021-01-08 20:00:00', '94', '261', 'williamhill_us', '800', '2021-01-08 10:22:00', '733', '261']\n",
      "['2021-01-08 20:00:00', '65', '66', 'draftkings', '260', '2021-01-08 10:22:00', '226', '66']\n"
     ]
    }
   ],
   "source": [
    "for bet in best_bets:\n",
    "    print(bet)"
   ]
  },
  {
   "cell_type": "code",
   "execution_count": 49,
   "metadata": {},
   "outputs": [],
   "source": [
    "db = db_helper.Db_Helper()\n",
    "db.insert_odds_historical(best_bets)\n",
    "db.close()"
   ]
  },
  {
   "cell_type": "code",
   "execution_count": null,
   "metadata": {},
   "outputs": [],
   "source": []
  },
  {
   "cell_type": "code",
   "execution_count": null,
   "metadata": {},
   "outputs": [],
   "source": []
  }
 ],
 "metadata": {
  "kernelspec": {
   "display_name": "Python 3",
   "language": "python",
   "name": "python3"
  },
  "language_info": {
   "codemirror_mode": {
    "name": "ipython",
    "version": 3
   },
   "file_extension": ".py",
   "mimetype": "text/x-python",
   "name": "python",
   "nbconvert_exporter": "python",
   "pygments_lexer": "ipython3",
   "version": "3.6.8"
  }
 },
 "nbformat": 4,
 "nbformat_minor": 4
}
