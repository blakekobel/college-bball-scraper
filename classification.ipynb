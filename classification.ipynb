{
 "cells": [
  {
   "cell_type": "code",
   "execution_count": null,
   "metadata": {},
   "outputs": [],
   "source": [
    "#Eric's model. Not the one currently in production on fastbreakstats.com"
   ]
  },
  {
   "cell_type": "code",
   "execution_count": 1,
   "metadata": {},
   "outputs": [],
   "source": [
    "import csv\n",
    "import pandas as pd\n",
    "from sklearn.linear_model import LogisticRegression"
   ]
  },
  {
   "cell_type": "code",
   "execution_count": 2,
   "metadata": {},
   "outputs": [],
   "source": [
    "games = pd.read_csv('games.csv')"
   ]
  },
  {
   "cell_type": "code",
   "execution_count": 4,
   "metadata": {},
   "outputs": [],
   "source": [
    "#If this box fails rerun it... idk\n",
    "games = games.sample(frac=1)\n",
    "X = games.iloc[:,[2,11,12,13]]\n",
    "X.Team1HomeAway = X.iloc[:,0].apply(lambda x : 1 if x==\"home\" else 0)\n",
    "Y = games.iloc[:,3].apply(lambda x : 1 if x==True else 0)"
   ]
  },
  {
   "cell_type": "code",
   "execution_count": 8,
   "metadata": {},
   "outputs": [],
   "source": [
    "trainX = X[:3500]\n",
    "trainY = Y[:3500]\n",
    "\n",
    "testX = X[3500:]\n",
    "testY = Y[3500:]"
   ]
  },
  {
   "cell_type": "code",
   "execution_count": 9,
   "metadata": {},
   "outputs": [],
   "source": [
    "LR = LogisticRegression().fit(trainX, trainY)"
   ]
  },
  {
   "cell_type": "code",
   "execution_count": 11,
   "metadata": {},
   "outputs": [
    {
     "data": {
      "text/plain": [
       "0.7875"
      ]
     },
     "execution_count": 11,
     "metadata": {},
     "output_type": "execute_result"
    }
   ],
   "source": [
    "LR.score(testX, testY)"
   ]
  },
  {
   "cell_type": "code",
   "execution_count": 15,
   "metadata": {},
   "outputs": [],
   "source": [
    "#IsHome,KP_diff,BPI_diff,SRS_diff\n",
    "KentuckyAtLSU = [0, 17.39-15.77, 11.5-11.1, 15.67-14.44]\n",
    "MichiganAtRutgers = [0, 20.48-17.61,12.4-10.5, 18.52-15.8]\n",
    "OregonAtArizonaState = [0, 18.8-12.01, 12.4-7.3, 17.56-11.75]\n",
    "KansasAtBaylor = [0, 30.93-26.82, 18.2-15.4, 25.64-20.58]\n",
    "SMUAtTulsa = [0, 10.55-9.71, 6.6-5.8, 9.34-8.09]\n",
    "HofstraAtDelaware = [0, 4.51+1.51, 3.2+.4, 2.17+2.08]\n",
    "MarylandAtOhioState = [0, 22.86-22.07, 14-13.9, 18.72-19.31]\n",
    "LouisvilleAtFloridaState = [0, 21.23-19.18, 14-1-12.5, 17.56-16.75]\n",
    "\n",
    "\n",
    "\n",
    "\n",
    "predict = [KentuckyAtLSU, MichiganAtRutgers, OregonAtArizonaState, KansasAtBaylor, SMUAtTulsa, HofstraAtDelaware, MarylandAtOhioState, LouisvilleAtFloridaState]"
   ]
  },
  {
   "cell_type": "code",
   "execution_count": 16,
   "metadata": {},
   "outputs": [
    {
     "data": {
      "text/plain": [
       "array([0, 1, 1, 1, 0, 1, 0, 0], dtype=int64)"
      ]
     },
     "execution_count": 16,
     "metadata": {},
     "output_type": "execute_result"
    }
   ],
   "source": [
    "LR.predict(predict) #Conclusion: Mizzouri St. is not good."
   ]
  },
  {
   "cell_type": "code",
   "execution_count": null,
   "metadata": {},
   "outputs": [],
   "source": []
  }
 ],
 "metadata": {
  "kernelspec": {
   "display_name": "Python 3",
   "language": "python",
   "name": "python3"
  },
  "language_info": {
   "codemirror_mode": {
    "name": "ipython",
    "version": 3
   },
   "file_extension": ".py",
   "mimetype": "text/x-python",
   "name": "python",
   "nbconvert_exporter": "python",
   "pygments_lexer": "ipython3",
   "version": "3.6.2"
  }
 },
 "nbformat": 4,
 "nbformat_minor": 4
}
